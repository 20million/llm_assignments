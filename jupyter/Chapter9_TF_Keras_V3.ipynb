{
 "cells": [
  {
   "cell_type": "markdown",
   "metadata": {},
   "source": [
    "# TensorFlow and Keras"
   ]
  },
  {
   "cell_type": "code",
   "execution_count": 4,
   "metadata": {},
   "outputs": [],
   "source": [
    "#Uncomment and use it\n",
    "#!pip install tensorflow"
   ]
  },
  {
   "cell_type": "code",
   "execution_count": 8,
   "metadata": {},
   "outputs": [
    {
     "name": "stdout",
     "output_type": "stream",
     "text": [
      "Name: tensorflow\r\n",
      "Version: 2.11.1\r\n",
      "Summary: TensorFlow is an open source machine learning framework for everyone.\r\n",
      "Home-page: https://www.tensorflow.org/\r\n",
      "Author: Google Inc.\r\n",
      "Author-email: packages@tensorflow.org\r\n",
      "License: Apache 2.0\r\n",
      "Location: /Users/shankar/.pyenv/versions/3.8-dev/lib/python3.8/site-packages\r\n",
      "Requires: absl-py, astunparse, flatbuffers, gast, google-pasta, grpcio, h5py, keras, libclang, numpy, opt-einsum, packaging, protobuf, setuptools, six, tensorboard, tensorflow-estimator, tensorflow-io-gcs-filesystem, termcolor, typing-extensions, wrapt\r\n",
      "Required-by: \r\n"
     ]
    }
   ],
   "source": [
    "!pip show tensorflow"
   ]
  },
  {
   "cell_type": "code",
   "execution_count": 9,
   "metadata": {},
   "outputs": [],
   "source": [
    "import tensorflow as tf\n",
    "%matplotlib inline  "
   ]
  },
  {
   "cell_type": "markdown",
   "metadata": {},
   "source": [
    "## Tensors"
   ]
  },
  {
   "cell_type": "markdown",
   "metadata": {},
   "source": [
    "#### Constants"
   ]
  },
  {
   "cell_type": "markdown",
   "metadata": {},
   "source": [
    "tf.constant creates constant values, these values do not change\n",
    "or update during optimization process(training phase)"
   ]
  },
  {
   "cell_type": "code",
   "execution_count": 30,
   "metadata": {},
   "outputs": [
    {
     "name": "stdout",
     "output_type": "stream",
     "text": [
      "tf.Tensor([50 10], shape=(2,), dtype=int32)\n",
      "tf.Tensor(\n",
      "[[1 2 3]\n",
      " [3 4 7]], shape=(2, 3), dtype=int32)\n",
      "2.11.1\n",
      "[[1 2 3]\n",
      " [3 4 7]]\n",
      "(2, 3)\n"
     ]
    }
   ],
   "source": [
    "a = tf.constant([50,10])\n",
    "print(a)\n",
    "b = tf.constant([[1,2,3],[3,4,7]])\n",
    "print(b)\n",
    "print(tf.__version__)\n",
    "print(b.numpy())\n",
    "print(b.shape)"
   ]
  },
  {
   "cell_type": "markdown",
   "metadata": {},
   "source": [
    "Few things that we can do with the tensors at the runtime:\n",
    "1. Directly get a numpy value of the tensor\n",
    "2. dtype : data type of the tensor(int16/int32/float32/float64)\n",
    "3. shape: shape of the tensor"
   ]
  },
  {
   "cell_type": "code",
   "execution_count": 19,
   "metadata": {},
   "outputs": [
    {
     "name": "stdout",
     "output_type": "stream",
     "text": [
      "a in tensorflow ==> tf.Tensor([50 10], shape=(2,), dtype=int32)\n",
      "numpy value of a ==> [50 10]\n",
      "dtype of a ==> <dtype: 'int32'>\n",
      "shape of a ==> (2,)\n"
     ]
    }
   ],
   "source": [
    "print('a in tensorflow ==>', a)\n",
    "print('numpy value of a ==>', a.numpy())\n",
    "print('dtype of a ==>', a.dtype)\n",
    "print('shape of a ==>', a.shape)"
   ]
  },
  {
   "cell_type": "markdown",
   "metadata": {},
   "source": [
    "We can use inbuild tf.XX() function to create constant tensors, just like numpy."
   ]
  },
  {
   "cell_type": "code",
   "execution_count": 20,
   "metadata": {},
   "outputs": [
    {
     "name": "stdout",
     "output_type": "stream",
     "text": [
      "Tensor of Ones: \n",
      " tf.Tensor(\n",
      "[[1. 1.]\n",
      " [1. 1.]], shape=(2, 2), dtype=float32)\n",
      "Tensor of Zeros: \n",
      " tf.Tensor(\n",
      "[[0. 0.]\n",
      " [0. 0.]], shape=(2, 2), dtype=float32)\n",
      "Random normal values \n",
      " tf.Tensor(\n",
      "[[5.527405  4.7836804]\n",
      " [3.4078662 3.9296103]\n",
      " [5.608993  4.038655 ]], shape=(3, 2), dtype=float32)\n"
     ]
    }
   ],
   "source": [
    "print('Tensor of Ones: \\n',tf.ones(shape=(2, 2)))\n",
    "print('Tensor of Zeros: \\n',tf.zeros(shape=(2, 2)))\n",
    "print('Random normal values \\n', tf.random.normal(shape=(3, 2),\n",
    "                                                  mean=5, \n",
    "                                                  stddev=1))"
   ]
  },
  {
   "cell_type": "markdown",
   "metadata": {},
   "source": [
    "### Variables"
   ]
  },
  {
   "cell_type": "markdown",
   "metadata": {},
   "source": [
    "We generally create a variable with some values, call it initialized values, \n",
    "convert this constant tensor into a variable and then mutate the variable by using special functions."
   ]
  },
  {
   "cell_type": "code",
   "execution_count": null,
   "metadata": {},
   "outputs": [],
   "source": [
    "x = tf.Variable(5) # Simple variable\n",
    "print(x)"
   ]
  },
  {
   "cell_type": "code",
   "execution_count": 31,
   "metadata": {},
   "outputs": [
    {
     "name": "stdout",
     "output_type": "stream",
     "text": [
      "<tf.Variable 'Variable:0' shape=(2, 2) dtype=float32, numpy=\n",
      "array([[ 0.8404092, -1.2949399],\n",
      "       [ 0.5561162, -0.8268858]], dtype=float32)>\n"
     ]
    }
   ],
   "source": [
    "#randomly initialized variable, like we need for our weights\n",
    "w = tf.Variable(tf.random.normal(shape=(2, 2))) \n",
    "print(w)"
   ]
  },
  {
   "cell_type": "code",
   "execution_count": 32,
   "metadata": {},
   "outputs": [
    {
     "name": "stdout",
     "output_type": "stream",
     "text": [
      "<tf.Variable 'Variable:0' shape=() dtype=int32, numpy=5>\n",
      "New value <tf.Variable 'UnreadVariable' shape=() dtype=int32, numpy=2>\n",
      "increment by 1 <tf.Variable 'UnreadVariable' shape=() dtype=int32, numpy=6>\n",
      "Decrement by 2 <tf.Variable 'UnreadVariable' shape=() dtype=int32, numpy=3>\n"
     ]
    }
   ],
   "source": [
    "m = tf.Variable(5) # Simple variable\n",
    "print(m)\n",
    "\n",
    "m = tf.Variable(5) \n",
    "print('New value', m.assign(2))\n",
    "\n",
    "m = tf.Variable(5) \n",
    "print('increment by 1', m.assign_add(1))\n",
    "\n",
    "m = tf.Variable(5) \n",
    "print('Decrement by 2', m.assign_sub(2))\n"
   ]
  },
  {
   "cell_type": "markdown",
   "metadata": {},
   "source": [
    "### Regression Model building in TensorFlow"
   ]
  },
  {
   "cell_type": "markdown",
   "metadata": {},
   "source": [
    "#This step is for data creation, x and y"
   ]
  },
  {
   "cell_type": "code",
   "execution_count": 47,
   "metadata": {},
   "outputs": [
    {
     "data": {
      "image/png": "[encoded data removed]",
      "text/plain": [
       "<Figure size 640x480 with 1 Axes>"
      ]
     },
     "metadata": {},
     "output_type": "display_data"
    }
   ],
   "source": [
    "#This step is for data creation, x and y\n",
    "import numpy as np\n",
    "x_train= np.array(range(5000,5100)).reshape(-1,1)\n",
    "noise=np.random.normal(500, 10, 100)\n",
    "y_train=[3*x+noise[x-5000] for x in x_train]\n",
    "\n",
    "import matplotlib.pyplot as plt\n",
    "plt.title(\"x_train vs y_train data\")\n",
    "plt.plot(x_train, y_train, 'b.')\n",
    "plt.show()"
   ]
  },
  {
   "cell_type": "code",
   "execution_count": 53,
   "metadata": {},
   "outputs": [
    {
     "name": "stdout",
     "output_type": "stream",
     "text": [
      "epoch : 0, loss  128892496.0,  W : [[0.9653369]], b  [1.0000226]\n",
      "epoch : 1, loss  116081568.0,  W : [[1.0741464]], b  [1.0000442]\n",
      "epoch : 2, loss  104543952.0,  W : [[1.177407]], b  [1.0000647]\n",
      "epoch : 3, loss  94153072.0,  W : [[1.2754017]], b  [1.0000842]\n",
      "epoch : 4, loss  84794976.0,  W : [[1.368399]], b  [1.0001025]\n",
      "epoch : 5, loss  76367008.0,  W : [[1.4566537]], b  [1.00012]\n",
      "epoch : 6, loss  68776712.0,  W : [[1.5404078]], b  [1.0001366]\n",
      "epoch : 7, loss  61940828.0,  W : [[1.6198907]], b  [1.0001523]\n",
      "epoch : 8, loss  55784392.0,  W : [[1.6953202]], b  [1.0001673]\n",
      "epoch : 9, loss  50239852.0,  W : [[1.7669032]], b  [1.0001814]\n",
      "epoch : 10, loss  45246404.0,  W : [[1.8348355]], b  [1.0001949]\n",
      "epoch : 11, loss  40749256.0,  W : [[1.8993036]], b  [1.0002077]\n",
      "epoch : 12, loss  36699100.0,  W : [[1.960484]], b  [1.0002198]\n",
      "epoch : 13, loss  33051494.0,  W : [[2.0185444]], b  [1.0002313]\n",
      "epoch : 14, loss  29766438.0,  W : [[2.073644]], b  [1.0002422]\n",
      "epoch : 15, loss  26807896.0,  W : [[2.1259336]], b  [1.0002526]\n",
      "epoch : 16, loss  24143400.0,  W : [[2.1755567]], b  [1.0002624]\n",
      "epoch : 17, loss  21743742.0,  W : [[2.222649]], b  [1.0002717]\n",
      "epoch : 18, loss  19582590.0,  W : [[2.26734]], b  [1.0002805]\n",
      "epoch : 19, loss  17636242.0,  W : [[2.3097517]], b  [1.0002888]\n",
      "epoch : 20, loss  15883343.0,  W : [[2.3500006]], b  [1.0002968]\n",
      "epoch : 21, loss  14304676.0,  W : [[2.388197]], b  [1.0003043]\n",
      "epoch : 22, loss  12882915.0,  W : [[2.4244454]], b  [1.0003115]\n",
      "epoch : 23, loss  11602465.0,  W : [[2.4588454]], b  [1.0003183]\n",
      "epoch : 24, loss  10449279.0,  W : [[2.491491]], b  [1.0003247]\n",
      "epoch : 25, loss  9410712.0,  W : [[2.522472]], b  [1.0003308]\n",
      "epoch : 26, loss  8475372.0,  W : [[2.551873]], b  [1.0003366]\n",
      "epoch : 27, loss  7632992.0,  W : [[2.5797746]], b  [1.0003421]\n",
      "epoch : 28, loss  6874342.5,  W : [[2.6062534]], b  [1.0003474]\n",
      "epoch : 29, loss  6191095.0,  W : [[2.6313818]], b  [1.0003524]\n",
      "epoch : 30, loss  5575759.5,  W : [[2.6552286]], b  [1.0003572]\n",
      "epoch : 31, loss  5021585.0,  W : [[2.6778595]], b  [1.0003617]\n",
      "epoch : 32, loss  4522487.0,  W : [[2.6993363]], b  [1.000366]\n",
      "epoch : 33, loss  4072997.75,  W : [[2.7197177]], b  [1.00037]\n",
      "epoch : 34, loss  3668185.25,  W : [[2.73906]], b  [1.0003738]\n",
      "epoch : 35, loss  3303606.0,  W : [[2.7574158]], b  [1.0003774]\n",
      "epoch : 36, loss  2975262.5,  W : [[2.7748353]], b  [1.0003809]\n",
      "epoch : 37, loss  2679557.0,  W : [[2.7913666]], b  [1.0003841]\n",
      "epoch : 38, loss  2413242.25,  W : [[2.8070548]], b  [1.0003872]\n",
      "epoch : 39, loss  2173397.5,  W : [[2.821943]], b  [1.0003902]\n",
      "epoch : 40, loss  1957389.125,  W : [[2.836072]], b  [1.0003929]\n",
      "epoch : 41, loss  1762852.125,  W : [[2.8494804]], b  [1.0003955]\n",
      "epoch : 42, loss  1587650.125,  W : [[2.862205]], b  [1.000398]\n",
      "epoch : 43, loss  1429861.875,  W : [[2.8742807]], b  [1.0004004]\n",
      "epoch : 44, loss  1287757.5,  W : [[2.8857405]], b  [1.0004027]\n",
      "epoch : 45, loss  1159778.0,  W : [[2.896616]], b  [1.0004048]\n",
      "epoch : 46, loss  1044516.75,  W : [[2.906937]], b  [1.0004069]\n",
      "epoch : 47, loss  940711.625,  W : [[2.9167314]], b  [1.0004088]\n",
      "epoch : 48, loss  847224.9375,  W : [[2.9260263]], b  [1.0004106]\n",
      "epoch : 49, loss  763030.25,  W : [[2.9348474]], b  [1.0004123]\n",
      "epoch : 50, loss  687203.25,  W : [[2.9432187]], b  [1.000414]\n",
      "epoch : 51, loss  618911.5,  W : [[2.951163]], b  [1.0004156]\n",
      "epoch : 52, loss  557408.25,  W : [[2.9587023]], b  [1.0004171]\n",
      "epoch : 53, loss  502017.53125,  W : [[2.965857]], b  [1.0004185]\n",
      "epoch : 54, loss  452132.875,  W : [[2.972647]], b  [1.0004199]\n",
      "epoch : 55, loss  407205.8125,  W : [[2.9790905]], b  [1.0004212]\n",
      "epoch : 56, loss  366745.1875,  W : [[2.9852054]], b  [1.0004224]\n",
      "epoch : 57, loss  330305.625,  W : [[2.9910085]], b  [1.0004236]\n",
      "epoch : 58, loss  297488.0,  W : [[2.9965158]], b  [1.0004246]\n",
      "epoch : 59, loss  267931.84375,  W : [[3.0017421]], b  [1.0004257]\n",
      "epoch : 60, loss  241313.359375,  W : [[3.006702]], b  [1.0004267]\n",
      "epoch : 61, loss  217340.703125,  W : [[3.0114088]], b  [1.0004276]\n",
      "epoch : 62, loss  195750.859375,  W : [[3.0158756]], b  [1.0004284]\n",
      "epoch : 63, loss  176307.078125,  W : [[3.0201147]], b  [1.0004293]\n",
      "epoch : 64, loss  158795.46875,  W : [[3.0241375]], b  [1.0004301]\n",
      "epoch : 65, loss  143024.640625,  W : [[3.0279553]], b  [1.0004308]\n",
      "epoch : 66, loss  128820.8828125,  W : [[3.0315783]], b  [1.0004315]\n",
      "epoch : 67, loss  116029.2109375,  W : [[3.0350165]], b  [1.0004323]\n",
      "epoch : 68, loss  104508.90625,  W : [[3.0382795]], b  [1.0004328]\n",
      "epoch : 69, loss  94133.40625,  W : [[3.041376]], b  [1.0004334]\n",
      "epoch : 70, loss  84789.15625,  W : [[3.0443149]], b  [1.000434]\n",
      "epoch : 71, loss  76373.453125,  W : [[3.0471036]], b  [1.0004346]\n",
      "epoch : 72, loss  68794.4609375,  W : [[3.04975]], b  [1.0004351]\n",
      "epoch : 73, loss  61969.078125,  W : [[3.0522616]], b  [1.0004356]\n",
      "epoch : 74, loss  55822.03125,  W : [[3.054645]], b  [1.0004361]\n",
      "epoch : 75, loss  50285.828125,  W : [[3.056907]], b  [1.0004365]\n",
      "epoch : 76, loss  45299.96484375,  W : [[3.0590537]], b  [1.000437]\n",
      "epoch : 77, loss  40809.2734375,  W : [[3.0610907]], b  [1.0004374]\n",
      "epoch : 78, loss  36765.30859375,  W : [[3.063024]], b  [1.0004377]\n",
      "epoch : 79, loss  33122.96875,  W : [[3.0648587]], b  [1.0004381]\n",
      "epoch : 80, loss  29842.845703125,  W : [[3.0665998]], b  [1.0004385]\n",
      "epoch : 81, loss  26888.5703125,  W : [[3.068252]], b  [1.0004388]\n",
      "epoch : 82, loss  24228.154296875,  W : [[3.0698202]], b  [1.0004392]\n",
      "epoch : 83, loss  21832.001953125,  W : [[3.0713084]], b  [1.0004394]\n",
      "epoch : 84, loss  19673.884765625,  W : [[3.0727205]], b  [1.0004396]\n",
      "epoch : 85, loss  17730.4921875,  W : [[3.0740607]], b  [1.0004399]\n",
      "epoch : 86, loss  15980.2314453125,  W : [[3.0753324]], b  [1.0004401]\n",
      "epoch : 87, loss  14404.0361328125,  W : [[3.0765393]], b  [1.0004404]\n",
      "epoch : 88, loss  12984.494140625,  W : [[3.0776846]], b  [1.0004406]\n",
      "epoch : 89, loss  11705.9970703125,  W : [[3.0787716]], b  [1.0004408]\n",
      "epoch : 90, loss  10554.5712890625,  W : [[3.0798032]], b  [1.0004411]\n",
      "epoch : 91, loss  9517.46875,  W : [[3.0807822]], b  [1.0004413]\n",
      "epoch : 92, loss  8583.5224609375,  W : [[3.0817113]], b  [1.0004416]\n",
      "epoch : 93, loss  7742.3173828125,  W : [[3.082593]], b  [1.0004417]\n",
      "epoch : 94, loss  6984.78369140625,  W : [[3.0834296]], b  [1.0004418]\n",
      "epoch : 95, loss  6302.6201171875,  W : [[3.0842237]], b  [1.0004419]\n",
      "epoch : 96, loss  5688.078125,  W : [[3.0849774]], b  [1.000442]\n",
      "epoch : 97, loss  5134.64697265625,  W : [[3.0856924]], b  [1.0004421]\n",
      "epoch : 98, loss  4636.3466796875,  W : [[3.0863712]], b  [1.0004423]\n",
      "epoch : 99, loss  4187.44140625,  W : [[3.0870152]], b  [1.0004424]\n",
      "epoch : 100, loss  3783.264404296875,  W : [[3.0876265]], b  [1.0004425]\n",
      "epoch : 101, loss  3419.159912109375,  W : [[3.0882065]], b  [1.0004426]\n",
      "epoch : 102, loss  3091.279052734375,  W : [[3.088757]], b  [1.0004427]\n",
      "epoch : 103, loss  2795.978759765625,  W : [[3.0892794]], b  [1.0004429]\n",
      "epoch : 104, loss  2530.057861328125,  W : [[3.089775]], b  [1.000443]\n",
      "epoch : 105, loss  2290.599365234375,  W : [[3.0902455]], b  [1.0004431]\n",
      "epoch : 106, loss  2074.93359375,  W : [[3.090692]], b  [1.0004432]\n",
      "epoch : 107, loss  1880.6446533203125,  W : [[3.0911157]], b  [1.0004433]\n",
      "epoch : 108, loss  1705.7125244140625,  W : [[3.091518]], b  [1.0004435]\n",
      "epoch : 109, loss  1548.1156005859375,  W : [[3.0918994]], b  [1.0004436]\n",
      "epoch : 110, loss  1406.2593994140625,  W : [[3.0922616]], b  [1.0004437]\n",
      "epoch : 111, loss  1278.4552001953125,  W : [[3.092605]], b  [1.0004438]\n",
      "epoch : 112, loss  1163.397705078125,  W : [[3.0929313]], b  [1.0004439]\n",
      "epoch : 113, loss  1059.735595703125,  W : [[3.0932407]], b  [1.000444]\n",
      "epoch : 114, loss  966.3959350585938,  W : [[3.0935345]], b  [1.000444]\n",
      "epoch : 115, loss  882.3200073242188,  W : [[3.0938132]], b  [1.000444]\n",
      "epoch : 116, loss  806.610595703125,  W : [[3.0940778]], b  [1.000444]\n",
      "epoch : 117, loss  738.3883056640625,  W : [[3.0943289]], b  [1.000444]\n",
      "epoch : 118, loss  676.97265625,  W : [[3.094567]], b  [1.000444]\n",
      "epoch : 119, loss  621.67626953125,  W : [[3.094793]], b  [1.000444]\n",
      "epoch : 120, loss  571.8782348632812,  W : [[3.0950077]], b  [1.000444]\n",
      "epoch : 121, loss  527.01318359375,  W : [[3.0952113]], b  [1.000444]\n",
      "epoch : 122, loss  486.61065673828125,  W : [[3.0954044]], b  [1.000444]\n",
      "epoch : 123, loss  450.244873046875,  W : [[3.0955877]], b  [1.000444]\n",
      "epoch : 124, loss  417.4803771972656,  W : [[3.0957618]], b  [1.000444]\n",
      "epoch : 125, loss  387.96112060546875,  W : [[3.095927]], b  [1.000444]\n",
      "epoch : 126, loss  361.3687438964844,  W : [[3.0960836]], b  [1.000444]\n",
      "epoch : 127, loss  337.4438781738281,  W : [[3.0962324]], b  [1.000444]\n",
      "epoch : 128, loss  315.8786315917969,  W : [[3.0963736]], b  [1.000444]\n",
      "epoch : 129, loss  296.4631042480469,  W : [[3.0965075]], b  [1.000444]\n",
      "epoch : 130, loss  278.9712219238281,  W : [[3.0966346]], b  [1.000444]\n",
      "epoch : 131, loss  263.2278747558594,  W : [[3.0967553]], b  [1.000444]\n",
      "epoch : 132, loss  249.04327392578125,  W : [[3.0968697]], b  [1.000444]\n",
      "epoch : 133, loss  236.27525329589844,  W : [[3.0969784]], b  [1.000444]\n",
      "epoch : 134, loss  224.76312255859375,  W : [[3.0970814]], b  [1.000444]\n",
      "epoch : 135, loss  214.4112091064453,  W : [[3.0971792]], b  [1.000444]\n",
      "epoch : 136, loss  205.08934020996094,  W : [[3.0972722]], b  [1.000444]\n",
      "epoch : 137, loss  196.6737823486328,  W : [[3.0973604]], b  [1.000444]\n",
      "epoch : 138, loss  189.09765625,  W : [[3.097444]], b  [1.000444]\n",
      "epoch : 139, loss  182.2764129638672,  W : [[3.0975235]], b  [1.000444]\n",
      "epoch : 140, loss  176.1358184814453,  W : [[3.0975988]], b  [1.000444]\n",
      "epoch : 141, loss  170.6063232421875,  W : [[3.0976703]], b  [1.000444]\n",
      "epoch : 142, loss  165.62472534179688,  W : [[3.0977383]], b  [1.000444]\n",
      "epoch : 143, loss  161.13377380371094,  W : [[3.0978026]], b  [1.000444]\n",
      "epoch : 144, loss  157.09414672851562,  W : [[3.0978637]], b  [1.000444]\n",
      "epoch : 145, loss  153.46221923828125,  W : [[3.0979216]], b  [1.000444]\n",
      "epoch : 146, loss  150.18887329101562,  W : [[3.0979767]], b  [1.000444]\n",
      "epoch : 147, loss  147.23590087890625,  W : [[3.098029]], b  [1.000444]\n",
      "epoch : 148, loss  144.57894897460938,  W : [[3.0980785]], b  [1.000444]\n",
      "epoch : 149, loss  142.185302734375,  W : [[3.0981255]], b  [1.000444]\n",
      "epoch : 150, loss  140.03245544433594,  W : [[3.09817]], b  [1.000444]\n",
      "epoch : 151, loss  138.09527587890625,  W : [[3.0982125]], b  [1.000444]\n",
      "epoch : 152, loss  136.343017578125,  W : [[3.0982528]], b  [1.000444]\n",
      "epoch : 153, loss  134.76573181152344,  W : [[3.098291]], b  [1.000444]\n",
      "epoch : 154, loss  133.34800720214844,  W : [[3.0983272]], b  [1.000444]\n",
      "epoch : 155, loss  132.07122802734375,  W : [[3.0983615]], b  [1.000444]\n",
      "epoch : 156, loss  130.92221069335938,  W : [[3.0983942]], b  [1.000444]\n",
      "epoch : 157, loss  129.88478088378906,  W : [[3.0984251]], b  [1.000444]\n",
      "epoch : 158, loss  128.95152282714844,  W : [[3.0984545]], b  [1.000444]\n",
      "epoch : 159, loss  128.1127471923828,  W : [[3.0984824]], b  [1.000444]\n",
      "epoch : 160, loss  127.35533142089844,  W : [[3.0985088]], b  [1.000444]\n",
      "epoch : 161, loss  126.67378234863281,  W : [[3.0985339]], b  [1.000444]\n",
      "epoch : 162, loss  126.06236267089844,  W : [[3.0985577]], b  [1.000444]\n",
      "epoch : 163, loss  125.51022338867188,  W : [[3.0985804]], b  [1.000444]\n",
      "epoch : 164, loss  125.01140594482422,  W : [[3.0986018]], b  [1.000444]\n",
      "epoch : 165, loss  124.56441497802734,  W : [[3.098622]], b  [1.000444]\n",
      "epoch : 166, loss  124.16155242919922,  W : [[3.0986414]], b  [1.000444]\n"
     ]
    },
    {
     "name": "stdout",
     "output_type": "stream",
     "text": [
      "epoch : 167, loss  123.80029296875,  W : [[3.0986598]], b  [1.000444]\n",
      "epoch : 168, loss  123.4708480834961,  W : [[3.0986772]], b  [1.000444]\n",
      "epoch : 169, loss  123.1771469116211,  W : [[3.0986936]], b  [1.000444]\n",
      "epoch : 170, loss  122.91143798828125,  W : [[3.0987093]], b  [1.000444]\n",
      "epoch : 171, loss  122.67230224609375,  W : [[3.0987241]], b  [1.000444]\n",
      "epoch : 172, loss  122.4588394165039,  W : [[3.0987382]], b  [1.000444]\n",
      "epoch : 173, loss  122.26547241210938,  W : [[3.0987515]], b  [1.000444]\n",
      "epoch : 174, loss  122.0922622680664,  W : [[3.0987642]], b  [1.000444]\n",
      "epoch : 175, loss  121.93470764160156,  W : [[3.0987763]], b  [1.000444]\n",
      "epoch : 176, loss  121.79179382324219,  W : [[3.0987878]], b  [1.000444]\n",
      "epoch : 177, loss  121.66484069824219,  W : [[3.0987985]], b  [1.000444]\n",
      "epoch : 178, loss  121.55154418945312,  W : [[3.0988088]], b  [1.000444]\n",
      "epoch : 179, loss  121.44792175292969,  W : [[3.0988185]], b  [1.000444]\n",
      "epoch : 180, loss  121.35638427734375,  W : [[3.0988278]], b  [1.000444]\n",
      "epoch : 181, loss  121.27061462402344,  W : [[3.0988367]], b  [1.000444]\n",
      "epoch : 182, loss  121.19587707519531,  W : [[3.098845]], b  [1.000444]\n",
      "epoch : 183, loss  121.12852478027344,  W : [[3.0988529]], b  [1.000444]\n",
      "epoch : 184, loss  121.06761932373047,  W : [[3.0988605]], b  [1.000444]\n",
      "epoch : 185, loss  121.01102447509766,  W : [[3.0988677]], b  [1.000444]\n",
      "epoch : 186, loss  120.96128845214844,  W : [[3.0988743]], b  [1.000444]\n",
      "epoch : 187, loss  120.91671752929688,  W : [[3.0988808]], b  [1.000444]\n",
      "epoch : 188, loss  120.8761978149414,  W : [[3.098887]], b  [1.000444]\n",
      "epoch : 189, loss  120.83924865722656,  W : [[3.0988927]], b  [1.000444]\n",
      "epoch : 190, loss  120.8086166381836,  W : [[3.0988982]], b  [1.000444]\n",
      "epoch : 191, loss  120.7787857055664,  W : [[3.0989034]], b  [1.000444]\n",
      "epoch : 192, loss  120.75152587890625,  W : [[3.0989084]], b  [1.000444]\n",
      "epoch : 193, loss  120.72736358642578,  W : [[3.0989132]], b  [1.000444]\n",
      "epoch : 194, loss  120.70602416992188,  W : [[3.0989177]], b  [1.000444]\n",
      "epoch : 195, loss  120.68576049804688,  W : [[3.098922]], b  [1.000444]\n",
      "epoch : 196, loss  120.6689453125,  W : [[3.098926]], b  [1.000444]\n",
      "epoch : 197, loss  120.65251159667969,  W : [[3.09893]], b  [1.000444]\n",
      "epoch : 198, loss  120.63806915283203,  W : [[3.0989335]], b  [1.000444]\n",
      "epoch : 199, loss  120.62706756591797,  W : [[3.0989368]], b  [1.000444]\n"
     ]
    }
   ],
   "source": [
    "#Model y=X*W + b\n",
    "#Model function\n",
    "def output(x):\n",
    "    return W*x + b\n",
    "\n",
    "#Loss function Reduce mean square\n",
    "def loss_function(y_pred, y_true):\n",
    "    return tf.reduce_mean(tf.square(y_pred - y_true))\n",
    "\n",
    "#Initialize Weights\n",
    "W = tf.Variable(tf.random.uniform(shape=(1, 1)))\n",
    "b = tf.Variable(tf.ones(shape=(1,)))\n",
    "\n",
    "#Optimization\n",
    "## Writing training/learing loop with GradienTape\n",
    "learning_rate = 0.000000001\n",
    "steps = 200 #epochs\n",
    "\n",
    "for i in range(steps):\n",
    "    with tf.GradientTape() as tape:\n",
    "        predictions = output(x_train)\n",
    "        loss = loss_function(predictions,y_train)\n",
    "        dloss_dw, dloss_db = tape.gradient(loss, [W, b])\n",
    "    W.assign_sub(learning_rate * dloss_dw)\n",
    "    b.assign_sub(learning_rate * dloss_db)\n",
    "    print(f\"epoch : {i}, loss  {loss.numpy()},  W : {W.numpy()}, b  {b.numpy()}\")"
   ]
  },
  {
   "cell_type": "markdown",
   "metadata": {},
   "source": [
    "Final Weights"
   ]
  },
  {
   "cell_type": "code",
   "execution_count": null,
   "metadata": {},
   "outputs": [],
   "source": [
    "print('w ', W)\n",
    "print('b ', b)"
   ]
  },
  {
   "cell_type": "markdown",
   "metadata": {},
   "source": [
    "Plotting"
   ]
  },
  {
   "cell_type": "code",
   "execution_count": null,
   "metadata": {},
   "outputs": [],
   "source": [
    "#Initialize Weights\n",
    "W = tf.Variable(tf.random.uniform(shape=(1, 1)))\n",
    "b = tf.Variable(tf.ones(shape=(1,)))\n",
    "\n",
    "#Optimization\n",
    "## Writing training/learing loop with GradienTape\n",
    "learning_rate = 0.000000001\n",
    "steps = 200 #epochs\n",
    "\n",
    "for i in range(steps):\n",
    "    with tf.GradientTape() as tape:\n",
    "        predictions = output(x_train)\n",
    "        loss = loss_function(predictions,y_train)\n",
    "        dloss_dw, dloss_db = tape.gradient(loss, [W, b])\n",
    "    W.assign_sub(learning_rate * dloss_dw)\n",
    "    b.assign_sub(learning_rate * dloss_db)\n",
    "    if i%30 == 0:\n",
    "        print(f\"epoch is: {i}, loss is {loss.numpy()},  W is: {W.numpy()}, b is {b.numpy()}\")\n",
    "        plt.title([\"epoch\", i])\n",
    "        plt.plot(x_train, y_train, 'b.')\n",
    "        plt.plot(x_train, output(x_train), c='r')\n",
    "        plt.show()"
   ]
  },
  {
   "cell_type": "markdown",
   "metadata": {},
   "source": [
    "### Logistic Regression Model building in TensorFlow"
   ]
  },
  {
   "cell_type": "code",
   "execution_count": null,
   "metadata": {},
   "outputs": [],
   "source": [
    "# This step is for data creation\n",
    "x_train= np.random.rand(100,1)\n",
    "y_train=np.array([0 if i < 0.5 else 1 for i in x_train]).reshape(-1,1)\n",
    "\n",
    "import matplotlib.pyplot as plt\n",
    "plt.title(\"x_train vs y_train data\")\n",
    "plt.plot(x_train, y_train, 'b.',)\n",
    "plt.show()"
   ]
  },
  {
   "cell_type": "code",
   "execution_count": null,
   "metadata": {},
   "outputs": [],
   "source": [
    "#Model y=sigmoid(X*W + b)\n",
    "# same as the linear regression just sigmoid wrapped around the linear equation\n",
    "def output(x): \n",
    "    return tf.sigmoid(W*x + b)\n",
    "\n",
    "#Loss function : sum of squares\n",
    "def loss_function(y_pred, y_true):\n",
    "    return tf.reduce_sum(tf.square(y_pred - y_true))\n",
    "\n",
    "#Initialize Weights\n",
    "W = tf.Variable(tf.random.uniform(shape=(1, 1)))\n",
    "b = tf.Variable(tf.zeros(shape=(1,)))\n",
    "\n",
    "## Optimization\n",
    "learning_rate = 0.1\n",
    "steps = 300 #epochs\n",
    "\n",
    "for i in range(steps):\n",
    "    with tf.GradientTape() as tape:\n",
    "        predictions = output(x_train)\n",
    "        loss = loss_function(y_train, predictions)\n",
    "        dloss_dw, dloss_db = tape.gradient(loss, [W, b])\n",
    "    W.assign_sub(learning_rate * dloss_dw)\n",
    "    b.assign_sub(learning_rate * dloss_db)\n",
    "    print(f\"epoch : {i}, loss  {loss.numpy()},  W : {W.numpy()}, b  {b.numpy()}\")"
   ]
  },
  {
   "cell_type": "markdown",
   "metadata": {},
   "source": [
    "Plotting"
   ]
  },
  {
   "cell_type": "code",
   "execution_count": null,
   "metadata": {},
   "outputs": [],
   "source": [
    "#Model y=X*W + b\n",
    "# same as the linear regression just sigmoid wrapped around the linear equation\n",
    "def output(x): \n",
    "    return tf.sigmoid(W*x + b)\n",
    "\n",
    "#Loss function : sum of squares\n",
    "def loss_function(y_pred, y_true):\n",
    "    return tf.reduce_sum(tf.square(y_pred - y_true))\n",
    "\n",
    "#Initialize Weights\n",
    "W = tf.Variable(tf.random.uniform(shape=(1, 1)))\n",
    "b = tf.Variable(tf.zeros(shape=(1,)))\n",
    "\n",
    "## Optimization\n",
    "learning_rate = 0.1\n",
    "steps = 300 #epochs\n",
    "\n",
    "for i in range(steps):\n",
    "    with tf.GradientTape() as tape:\n",
    "        predictions = output(x_train)\n",
    "        loss = loss_function(y_train, predictions)\n",
    "        dloss_dw, dloss_db = tape.gradient(loss, [W, b])\n",
    "    W.assign_sub(learning_rate * dloss_dw)\n",
    "    b.assign_sub(learning_rate * dloss_db)\n",
    "\n",
    "    if i%40 == 0:\n",
    "        print(f\"epoch is: {i}, loss is {loss.numpy()},  W is: {W.numpy()}, b is {b.numpy()}\")\n",
    "        plt.title([\"epoch\", i])\n",
    "        plt.plot(x_train, y_train, 'b+')\n",
    "        plt.plot(x_train, output(x_train), '.', c='r')\n",
    "        plt.show()"
   ]
  },
  {
   "cell_type": "markdown",
   "metadata": {},
   "source": [
    "# Keras"
   ]
  },
  {
   "cell_type": "code",
   "execution_count": 1,
   "metadata": {},
   "outputs": [
    {
     "name": "stderr",
     "output_type": "stream",
     "text": [
      "2024-05-20 15:20:18.573809: I tensorflow/core/platform/cpu_feature_guard.cc:193] This TensorFlow binary is optimized with oneAPI Deep Neural Network Library (oneDNN) to use the following CPU instructions in performance-critical operations:  AVX2 FMA\n",
      "To enable them in other operations, rebuild TensorFlow with the appropriate compiler flags.\n"
     ]
    }
   ],
   "source": [
    "from tensorflow import keras\n",
    "from tensorflow.keras import layers\n",
    "from tensorflow.keras.models import Sequential\n",
    "from tensorflow.keras.layers import Dense"
   ]
  },
  {
   "cell_type": "code",
   "execution_count": 2,
   "metadata": {},
   "outputs": [
    {
     "name": "stdout",
     "output_type": "stream",
     "text": [
      "(60000, 784) train input samples\n",
      "(10000, 784) test input samples\n",
      "(60000, 10) train output samples\n",
      "(10000, 10) test output samples\n"
     ]
    }
   ],
   "source": [
    "## The data, shuffled and split between train and test sets\n",
    "(X_train, Y_train), (X_test, Y_test) = keras.datasets.mnist.load_data()\n",
    "num_classes=10\n",
    "x_train = X_train.reshape(60000, 784)\n",
    "x_test = X_test.reshape(10000, 784)\n",
    "x_train = x_train.astype('float32')\n",
    "x_test = x_test.astype('float32')\n",
    "x_train /= 255\n",
    "x_test /= 255\n",
    "\n",
    "## Convert class vectors to binary class matrices\n",
    "y_train = keras.utils.to_categorical(Y_train, num_classes)\n",
    "y_test = keras.utils.to_categorical(Y_test, num_classes)\n",
    "\n",
    "print(x_train.shape, 'train input samples')\n",
    "print(x_test.shape, 'test input samples')\n",
    "\n",
    "print(y_train.shape, 'train output samples')\n",
    "print(y_test.shape, 'test output samples')"
   ]
  },
  {
   "cell_type": "code",
   "execution_count": 3,
   "metadata": {},
   "outputs": [
    {
     "data": {
      "image/png": "[encoded data removed]",
      "text/plain": [
       "<Figure size 640x480 with 4 Axes>"
      ]
     },
     "metadata": {},
     "output_type": "display_data"
    }
   ],
   "source": [
    "# Plot 4 images as gray scale\n",
    "\n",
    "%matplotlib inline\n",
    "import matplotlib.pyplot as plt\n",
    "plt.subplot(221)\n",
    "plt.imshow(X_train[1], cmap=plt.get_cmap('gray'))\n",
    "plt.subplot(222)\n",
    "plt.imshow(X_train[6], cmap=plt.get_cmap('gray'))\n",
    "plt.subplot(223)\n",
    "plt.imshow(X_train[7], cmap=plt.get_cmap('gray'))\n",
    "plt.subplot(224)\n",
    "plt.imshow(X_train[9], cmap=plt.get_cmap('gray'))\n",
    "\n",
    "# show the plot\n",
    "plt.show()"
   ]
  },
  {
   "cell_type": "code",
   "execution_count": 15,
   "metadata": {},
   "outputs": [
    {
     "name": "stdout",
     "output_type": "stream",
     "text": [
      "Model: \"sequential_7\"\n",
      "_________________________________________________________________\n",
      " Layer (type)                Output Shape              Param #   \n",
      "=================================================================\n",
      " dense_20 (Dense)            (None, 20)                15700     \n",
      "                                                                 \n",
      " dense_21 (Dense)            (None, 20)                420       \n",
      "                                                                 \n",
      " dense_22 (Dense)            (None, 10)                210       \n",
      "                                                                 \n",
      "=================================================================\n",
      "Total params: 16,330\n",
      "Trainable params: 16,330\n",
      "Non-trainable params: 0\n",
      "_________________________________________________________________\n"
     ]
    }
   ],
   "source": [
    "model = keras.Sequential()\n",
    "#Input Layer. The model needs to know what input shape it should expect. \n",
    "#For this reason, the first layer in a Sequential model needs to receive information about its input shape.\n",
    "#Only the first need the snape information, because following layers can do automatic shape inference\n",
    "model.add(layers.Dense(20, activation='sigmoid', input_shape=(784,)))\n",
    "\n",
    "#The dense layer is simply a layer where each unit or neuron is connected to each neuron in the next layer.\n",
    "model.add(layers.Dense(20, activation='sigmoid'))\n",
    "\n",
    "#In the final layer mention the output classes\n",
    "model.add(layers.Dense(10, activation='softmax'))\n",
    "\n",
    "#Model Summary\n",
    "model.summary()"
   ]
  },
  {
   "cell_type": "code",
   "execution_count": 12,
   "metadata": {},
   "outputs": [
    {
     "name": "stdout",
     "output_type": "stream",
     "text": [
      "Epoch 1/10\n",
      "1875/1875 [==============================] - 2s 970us/step - loss: 0.4021 - accuracy: 0.8937\n",
      "Epoch 2/10\n",
      "1875/1875 [==============================] - 2s 968us/step - loss: 0.2207 - accuracy: 0.9344\n",
      "Epoch 3/10\n",
      "1875/1875 [==============================] - 2s 962us/step - loss: 0.1850 - accuracy: 0.9461\n",
      "Epoch 4/10\n",
      "1875/1875 [==============================] - 2s 970us/step - loss: 0.1651 - accuracy: 0.9512\n",
      "Epoch 5/10\n",
      "1875/1875 [==============================] - 2s 972us/step - loss: 0.1518 - accuracy: 0.9547\n",
      "Epoch 6/10\n",
      "1875/1875 [==============================] - 2s 964us/step - loss: 0.1411 - accuracy: 0.9588\n",
      "Epoch 7/10\n",
      "1875/1875 [==============================] - 2s 969us/step - loss: 0.1324 - accuracy: 0.9607\n",
      "Epoch 8/10\n",
      "1875/1875 [==============================] - 2s 977us/step - loss: 0.1261 - accuracy: 0.9629\n",
      "Epoch 9/10\n",
      "1875/1875 [==============================] - 2s 973us/step - loss: 0.1208 - accuracy: 0.9639\n",
      "Epoch 10/10\n",
      "1875/1875 [==============================] - 2s 986us/step - loss: 0.1161 - accuracy: 0.9656\n"
     ]
    },
    {
     "data": {
      "text/plain": [
       "<keras.callbacks.History at 0x1026f0430>"
      ]
     },
     "execution_count": 12,
     "metadata": {},
     "output_type": "execute_result"
    }
   ],
   "source": [
    "# Compiling model : we define loss function, optimizer and validation matric of our choice\n",
    "model.compile(loss='categorical_crossentropy', metrics=['accuracy'])\n",
    "\n",
    "# Fit method: actually running our model by supplying our input and validation data\n",
    "model.fit(x_train, y_train,epochs=10)"
   ]
  },
  {
   "cell_type": "code",
   "execution_count": 13,
   "metadata": {},
   "outputs": [
    {
     "name": "stdout",
     "output_type": "stream",
     "text": [
      "[array([[-0.06112726, -0.06172564,  0.05756646, ..., -0.00482801,\n",
      "        -0.02056193, -0.01689234],\n",
      "       [-0.08502159, -0.00809331, -0.05315769, ...,  0.05270645,\n",
      "        -0.04494507, -0.01754689],\n",
      "       [-0.03296066,  0.0258549 , -0.07192399, ...,  0.04058436,\n",
      "        -0.08195657, -0.00456522],\n",
      "       ...,\n",
      "       [-0.03619552,  0.02782089, -0.01842281, ...,  0.01218864,\n",
      "        -0.04819079, -0.07888108],\n",
      "       [ 0.02850633, -0.05436624, -0.04614958, ...,  0.00445332,\n",
      "        -0.04150642, -0.05234737],\n",
      "       [-0.04870763, -0.0395488 , -0.04551359, ..., -0.0628719 ,\n",
      "        -0.00258678,  0.00256124]], dtype=float32), array([-0.17099476,  0.2549448 , -0.17312898,  0.34622306, -0.01970147,\n",
      "        0.15964814, -0.22573835, -0.14465982,  0.21722005, -0.315738  ,\n",
      "       -0.10817631, -0.3649966 ,  0.11365197, -0.193667  , -0.03309956,\n",
      "        0.28715834,  0.14567158, -0.04616298,  0.20882565,  0.21781613],\n",
      "      dtype=float32), array([[ 5.97645223e-01, -2.83634394e-01,  6.18538737e-01,\n",
      "         4.31364357e-01, -7.46321738e-01,  5.17516792e-01,\n",
      "         7.98546612e-01,  3.37693900e-01, -4.62985188e-01,\n",
      "        -5.13518691e-01, -3.66496325e-01, -3.43548536e-01,\n",
      "        -1.48629770e-01, -1.79391071e-01,  2.53800035e-01,\n",
      "        -2.57892698e-01,  4.66901772e-02,  6.50554955e-01,\n",
      "         4.15123135e-01,  4.80651051e-01],\n",
      "       [-1.32578045e-01,  4.69308138e-01, -3.08114082e-01,\n",
      "         4.09722418e-01,  3.53049457e-01,  5.38585901e-01,\n",
      "         4.64875162e-01, -4.90589738e-01, -2.58743763e-02,\n",
      "        -3.00657094e-01, -3.65386993e-01, -1.53617382e-01,\n",
      "        -2.11781636e-01,  1.08086117e-01,  2.25962624e-01,\n",
      "         3.58431697e-01, -3.80907543e-02,  2.02225015e-01,\n",
      "         6.35470808e-01,  1.20347865e-01],\n",
      "       [-1.77914843e-01, -5.76430976e-01, -2.88668066e-01,\n",
      "         2.56522465e-02, -3.66359115e-01, -1.77491680e-01,\n",
      "        -2.05744766e-02, -2.31641591e-01,  9.30380970e-02,\n",
      "         2.65338689e-01, -2.78605372e-01, -2.61089683e-01,\n",
      "         3.31282616e-01,  2.87616313e-01,  2.65209764e-01,\n",
      "        -9.63521563e-03, -2.06305787e-01,  1.63242638e-01,\n",
      "        -1.79614097e-01, -2.12015167e-01],\n",
      "       [ 1.92702979e-01,  2.70644665e-01,  2.33673215e-01,\n",
      "        -1.99560553e-01,  5.16929440e-02, -5.54763019e-01,\n",
      "         4.80411649e-01, -3.74481380e-02, -1.27389252e-01,\n",
      "        -3.92559826e-01,  1.01913011e+00,  1.83169022e-01,\n",
      "         8.03968847e-01,  4.97216210e-02,  1.89556897e-01,\n",
      "         3.13012868e-01,  1.23534329e-01, -2.23883048e-01,\n",
      "         3.00446600e-01,  1.28343105e-01],\n",
      "       [-4.61880267e-02,  4.09699112e-01, -4.50006276e-02,\n",
      "         6.99000537e-01, -4.69953328e-01, -7.43988110e-03,\n",
      "         7.05517232e-01, -1.76611125e-01, -1.94839433e-01,\n",
      "        -3.79857898e-01,  3.02462634e-02, -7.83274621e-02,\n",
      "        -6.41105533e-01, -2.51024634e-01, -2.14989394e-01,\n",
      "        -3.63398612e-01,  5.85772395e-01,  7.56951094e-01,\n",
      "         5.55184372e-02,  2.38096952e-01],\n",
      "       [ 7.35588968e-01, -1.56635091e-01, -5.61496377e-01,\n",
      "        -7.45028198e-01, -7.11563509e-03, -2.29487449e-01,\n",
      "        -4.51902300e-03,  3.93030733e-01,  7.87514865e-01,\n",
      "        -5.46423018e-01,  1.81101426e-01,  3.16297531e-01,\n",
      "        -2.20545515e-01,  9.39713120e-02,  6.24452055e-01,\n",
      "         4.27632660e-01,  1.54676735e-01,  4.14294988e-01,\n",
      "        -3.31398755e-01, -1.63787082e-01],\n",
      "       [-4.34121072e-01,  6.46383241e-02, -1.23737268e-01,\n",
      "         5.36892653e-01, -3.64736199e-01,  4.83860105e-01,\n",
      "         9.13123414e-02,  4.94243115e-01,  5.22923842e-02,\n",
      "        -6.25647902e-01, -3.93424481e-01,  1.45390540e-01,\n",
      "        -2.40674049e-01,  5.18448234e-01,  7.33422101e-01,\n",
      "        -2.70141155e-01, -9.98326719e-01,  3.89123499e-01,\n",
      "        -1.03442706e-01,  1.05215959e-01],\n",
      "       [ 2.91995496e-01,  3.87068391e-01, -5.08168578e-01,\n",
      "         1.83138058e-01,  2.39774778e-01, -3.11772555e-01,\n",
      "         4.44787145e-02,  6.68870583e-02, -3.53901461e-02,\n",
      "         2.00280279e-01, -1.34165362e-01,  3.41724783e-01,\n",
      "        -4.18119431e-01, -1.73199743e-01, -7.11703956e-01,\n",
      "        -6.06104791e-01, -4.48758811e-01,  2.44718388e-01,\n",
      "         2.39023361e-02, -5.89502901e-02],\n",
      "       [ 8.38858366e-01,  1.97469786e-01,  6.78565860e-01,\n",
      "        -6.86099172e-01, -6.04104877e-01,  5.94342351e-01,\n",
      "         4.82826203e-01, -2.49954447e-01, -4.50228423e-01,\n",
      "        -6.28995717e-01,  3.25307757e-01, -3.11338425e-01,\n",
      "        -1.32821068e-01, -2.33317524e-01, -2.02392772e-01,\n",
      "         4.12634671e-01,  1.12281881e-01,  1.18350700e-01,\n",
      "         4.37640309e-01,  2.35928539e-02],\n",
      "       [ 1.76717192e-01,  4.20825899e-01,  1.77787840e-02,\n",
      "        -6.16151810e-01, -4.89970207e-01,  7.43518323e-02,\n",
      "        -2.47390419e-01, -3.33407670e-01, -3.83126497e-01,\n",
      "        -3.64363998e-01, -3.69981766e-01,  5.63074112e-01,\n",
      "        -4.67624843e-01, -4.88175273e-01, -5.44000566e-02,\n",
      "        -3.76738250e-01,  3.82227749e-02,  4.57841367e-01,\n",
      "        -2.97892720e-01,  5.11898220e-01],\n",
      "       [-4.08743918e-01, -6.92244694e-02,  6.44418836e-01,\n",
      "        -3.17733496e-01, -5.24264574e-01, -3.40140790e-01,\n",
      "         7.70458579e-01, -6.43272817e-01, -1.32222131e-01,\n",
      "        -2.89283931e-01,  4.13759261e-01, -1.12438060e-01,\n",
      "         1.92151010e-01,  5.39965212e-01, -2.09932327e-02,\n",
      "        -1.10343359e-01, -2.91782051e-01,  5.12836576e-01,\n",
      "        -2.46588141e-01,  4.19326611e-02],\n",
      "       [ 4.10952240e-01, -4.90764886e-01,  2.90722936e-01,\n",
      "        -1.53123721e-01, -7.86028802e-02, -3.16421449e-01,\n",
      "         1.49147436e-01, -1.12287737e-01, -3.54105502e-01,\n",
      "         2.25573942e-01, -1.10891089e-01, -4.75010216e-01,\n",
      "         1.72015712e-01,  1.82983339e-01, -2.51864996e-02,\n",
      "        -3.98682028e-01,  3.48774105e-01, -5.97880147e-02,\n",
      "        -4.05151695e-01, -3.70133281e-01],\n",
      "       [ 4.59310114e-02,  3.16863954e-02,  2.74953861e-02,\n",
      "         1.42956525e-01,  7.23403752e-01,  3.49100500e-01,\n",
      "        -6.14025474e-01,  4.36365455e-01, -4.20001149e-02,\n",
      "         2.64505446e-01,  7.48709887e-02,  1.20800950e-01,\n",
      "        -1.45852193e-01, -4.03730184e-01,  2.24992096e-01,\n",
      "         5.44156432e-01,  2.33534932e-01, -7.46753395e-01,\n",
      "         2.90317148e-01,  2.85517991e-01],\n",
      "       [-5.45235038e-01,  1.42130643e-01,  5.96736014e-01,\n",
      "        -9.31329578e-02,  5.73083401e-01, -2.44586840e-02,\n",
      "         2.68649161e-01, -2.95422971e-01,  6.92274451e-01,\n",
      "        -8.28326941e-02,  3.41235884e-02,  4.27036077e-01,\n",
      "        -5.37459970e-01, -6.48679286e-02,  7.16107845e-01,\n",
      "         5.08635342e-02, -9.24882665e-02,  1.75646544e-01,\n",
      "        -5.13111316e-02, -5.21108389e-01],\n",
      "       [-1.25585377e-01, -6.97732031e-01, -7.65296072e-02,\n",
      "         1.33129224e-01,  4.08922374e-01,  1.68242663e-01,\n",
      "         3.85317832e-01, -8.35591197e-01, -8.44619513e-01,\n",
      "        -1.29170239e-01, -3.00505966e-01, -4.78968889e-01,\n",
      "        -1.62142992e-01, -4.02597897e-02, -2.38307104e-01,\n",
      "         4.56483692e-01,  5.76714240e-02,  4.49071258e-01,\n",
      "        -1.08226585e+00, -3.16471934e-01],\n",
      "       [ 6.63836002e-02, -4.79463995e-01, -7.22953498e-01,\n",
      "        -1.14930034e-01,  3.17880154e-01,  2.39051148e-01,\n",
      "         1.07079461e-01, -9.54423174e-02,  2.43207484e-01,\n",
      "        -9.46745276e-02, -6.73307180e-01, -5.24256647e-01,\n",
      "         8.05268884e-02,  2.02125490e-01,  5.61084747e-01,\n",
      "         3.65868241e-01,  4.80279326e-02,  3.61730278e-01,\n",
      "         2.62321115e-01,  4.42916423e-01],\n",
      "       [ 4.30572540e-01,  1.54794931e-01, -2.34946892e-01,\n",
      "        -7.11536467e-01, -2.59803891e-01, -6.08738124e-01,\n",
      "         2.08035018e-02,  6.48723962e-03, -2.74862111e-01,\n",
      "         1.81372270e-01, -2.90064272e-02, -2.45719478e-01,\n",
      "         1.71949156e-03,  5.14993787e-01, -4.10505235e-01,\n",
      "        -2.79406190e-01,  5.23010194e-01, -3.52709383e-01,\n",
      "         1.78689927e-01,  3.91720772e-01],\n",
      "       [ 1.32563096e-02, -2.08204120e-01,  9.45612118e-02,\n",
      "         6.34931743e-01, -3.25415969e-01, -2.01551974e-01,\n",
      "         6.47052050e-01, -2.76110321e-01,  5.07042348e-01,\n",
      "         4.34480518e-01,  3.26053828e-01, -4.13282484e-01,\n",
      "         4.90607768e-01,  1.24490060e-01,  3.65056247e-01,\n",
      "        -2.11419672e-01,  7.06863329e-02,  6.78859234e-01,\n",
      "         1.10532634e-01,  2.52590161e-02],\n",
      "       [-2.50468910e-01,  4.39780615e-02,  6.76382259e-02,\n",
      "         9.13523912e-01,  1.04767524e-01,  7.83150196e-01,\n",
      "         4.10490632e-01,  7.76473433e-02, -1.00591451e-01,\n",
      "         1.83102027e-01, -5.05030096e-01, -1.64061874e-01,\n",
      "         3.03295907e-04, -6.50650144e-01,  3.50420147e-01,\n",
      "        -3.75108540e-01,  2.78577507e-01,  2.37015978e-01,\n",
      "         2.97903001e-01,  3.12441468e-01],\n",
      "       [ 3.04747760e-01, -2.88690384e-02, -3.58624697e-01,\n",
      "        -1.21587560e-01,  4.23088104e-01, -7.73486868e-02,\n",
      "         3.65525365e-01, -5.98074377e-01,  1.90928400e-01,\n",
      "         7.43942618e-01, -2.81562120e-01,  9.60400701e-02,\n",
      "        -3.16922635e-01, -6.18829072e-01,  3.30705643e-01,\n",
      "         4.27905805e-02,  3.44612360e-01, -2.69896775e-01,\n",
      "        -6.64722919e-02, -8.80079091e-01]], dtype=float32), array([ 0.45738146,  0.456232  , -0.19187233, -0.21035016,  0.12375724,\n",
      "        0.27328148, -0.2992979 , -0.01181339, -0.15150683,  0.06284285,\n",
      "        0.35499212, -0.06629287,  0.28510243,  0.01197812, -0.13931175,\n",
      "        0.08698966,  0.86052185, -0.1410351 ,  0.33787316,  0.1522714 ],\n",
      "      dtype=float32), array([[-8.45001698e-01, -7.76988566e-02, -2.87083358e-01,\n",
      "         1.04702497e+00, -7.04591990e-01,  1.13252211e+00,\n",
      "         9.41463172e-01,  1.19235921e+00, -5.29078007e-01,\n",
      "        -7.56894827e-01],\n",
      "       [ 1.00351870e+00,  1.22703946e+00, -1.22977638e+00,\n",
      "         3.79745007e-01, -7.23169029e-01,  5.55162489e-01,\n",
      "        -9.65298831e-01,  4.41487312e-01, -8.95930469e-01,\n",
      "         6.91646636e-01],\n",
      "       [ 1.13742664e-01, -1.11067688e+00,  1.40090510e-01,\n",
      "        -2.34057382e-01, -1.31134748e+00,  4.67185557e-01,\n",
      "        -3.26074362e-02, -1.70773470e+00,  5.78540385e-01,\n",
      "         8.21575940e-01],\n",
      "       [-3.77097100e-01,  2.10993195e+00, -4.10700589e-01,\n",
      "        -8.43545139e-01,  8.09048116e-01, -3.41426134e-01,\n",
      "         1.60800135e+00, -1.17545545e+00, -3.90135914e-01,\n",
      "         1.06258500e+00],\n",
      "       [-5.72034538e-01,  9.33070183e-02,  7.74625719e-01,\n",
      "        -3.70408356e-01,  9.87829149e-01, -6.90820575e-01,\n",
      "        -8.57929826e-01,  1.23682141e+00, -4.89122756e-02,\n",
      "         3.32389660e-02],\n",
      "       [ 1.09554040e+00, -1.50770676e+00, -5.10258913e-01,\n",
      "        -1.21690238e+00,  1.33402343e-03,  5.74949086e-01,\n",
      "         7.13456452e-01,  5.62579334e-01, -6.32185817e-01,\n",
      "         5.59961796e-01],\n",
      "       [ 4.65218097e-01,  6.98166072e-01, -2.66052574e-01,\n",
      "        -1.27275598e+00, -7.64336348e-01,  1.25123918e+00,\n",
      "         7.71490991e-01, -3.85463923e-01,  8.64292443e-01,\n",
      "        -5.15219212e-01],\n",
      "       [-1.28607881e+00, -8.54090095e-01, -1.08366621e+00,\n",
      "         6.38155043e-01,  6.57075942e-01,  3.34928483e-01,\n",
      "         2.77993411e-01, -3.59481066e-01, -7.64762700e-01,\n",
      "         7.89466143e-01],\n",
      "       [-9.29734468e-01,  1.41907990e+00, -9.32042539e-01,\n",
      "         8.41676176e-01,  4.91629839e-01, -3.64931285e-01,\n",
      "        -1.06711400e+00,  2.82976627e-01,  5.56706965e-01,\n",
      "         1.48840100e-01],\n",
      "       [ 1.39798313e-01,  1.86990166e+00,  1.50657403e+00,\n",
      "        -7.16678023e-01,  6.29674315e-01, -7.88198292e-01,\n",
      "         5.95692873e-01,  4.67364013e-01, -4.87488300e-01,\n",
      "        -3.99111360e-01],\n",
      "       [-1.29887533e+00,  4.46940869e-01,  2.41965830e-01,\n",
      "         2.72411257e-01, -1.26335919e+00,  6.65750563e-01,\n",
      "        -9.87164855e-01, -1.06571341e+00, -3.37256417e-02,\n",
      "         4.41647947e-01],\n",
      "       [ 1.28170505e-01,  4.01207060e-01, -7.67453015e-01,\n",
      "         4.60571200e-01, -3.87134999e-01, -6.56419277e-01,\n",
      "        -6.70029521e-01,  8.15675020e-01,  1.00051492e-01,\n",
      "         9.91147339e-01],\n",
      "       [-1.99286187e+00,  5.39947808e-01,  6.36974573e-02,\n",
      "         2.13045463e-01,  7.16976762e-01,  4.30681139e-01,\n",
      "         6.07153058e-01, -9.48941350e-01,  2.12903079e-02,\n",
      "        -9.86206532e-01],\n",
      "       [ 4.34094667e-01, -1.69307552e-02,  4.00191247e-01,\n",
      "         2.75213778e-01,  6.16498172e-01,  1.54007778e-01,\n",
      "        -6.37055039e-01, -1.45670629e+00,  1.42521620e-01,\n",
      "        -1.28254414e+00],\n",
      "       [-1.09072018e+00, -8.34031582e-01, -2.15696290e-01,\n",
      "        -6.09199822e-01,  2.74027348e-01,  6.01547718e-01,\n",
      "        -1.11175323e+00,  4.56747673e-02,  8.77816141e-01,\n",
      "         1.16268444e+00],\n",
      "       [-1.24476004e+00, -1.63805354e+00,  3.12158287e-01,\n",
      "        -5.83843648e-01,  2.17259377e-01, -4.12525758e-02,\n",
      "        -1.79114974e+00,  8.77377272e-01,  4.60788786e-01,\n",
      "         5.38435206e-03],\n",
      "       [-3.07208538e-01,  1.12580645e+00,  1.26632142e+00,\n",
      "        -3.39130670e-01, -6.69089079e-01,  9.61023688e-01,\n",
      "        -2.79442579e-01,  1.51846170e+00, -1.58340979e+00,\n",
      "        -6.48046494e-01],\n",
      "       [ 5.69576085e-01,  1.26127958e+00, -1.22409773e+00,\n",
      "        -7.14132965e-01, -7.05418885e-01,  6.23742402e-01,\n",
      "         9.65498865e-01,  6.53963387e-01,  1.15463078e+00,\n",
      "        -5.41301966e-01],\n",
      "       [-1.75177932e-01,  2.51031667e-01, -2.57094353e-01,\n",
      "        -3.84250492e-01,  7.75890470e-01,  2.17749500e+00,\n",
      "        -5.93813583e-02, -7.34666586e-01, -1.27852464e+00,\n",
      "         1.01165652e+00],\n",
      "       [ 4.59292620e-01, -8.06223452e-01, -3.16227704e-01,\n",
      "         5.38820684e-01,  9.43112612e-01,  1.45422113e+00,\n",
      "        -5.31025052e-01,  2.86143214e-01, -4.22631621e-01,\n",
      "        -1.55307576e-01]], dtype=float32), array([-0.610751  , -0.08419776,  0.15123856, -0.06026767, -0.3101026 ,\n",
      "        0.05610184, -0.36988592,  0.14559217, -0.6674961 , -0.24648306],\n",
      "      dtype=float32)]\n"
     ]
    }
   ],
   "source": [
    "print(model.get_weights())"
   ]
  },
  {
   "cell_type": "code",
   "execution_count": 14,
   "metadata": {},
   "outputs": [
    {
     "name": "stdout",
     "output_type": "stream",
     "text": [
      "313/313 - 0s - loss: 0.1437 - accuracy: 0.9583 - 323ms/epoch - 1ms/step\n",
      "Test Accuracy: 95.83%\n"
     ]
    }
   ],
   "source": [
    "loss, acc = model.evaluate(x_test,  y_test, verbose=2)\n",
    "print(\"Test Accuracy: {:5.2f}%\".format(100*acc))"
   ]
  },
  {
   "cell_type": "code",
   "execution_count": null,
   "metadata": {},
   "outputs": [],
   "source": []
  }
 ],
 "metadata": {
  "kernelspec": {
   "display_name": "Python 3 (ipykernel)",
   "language": "python",
   "name": "python3"
  },
  "language_info": {
   "codemirror_mode": {
    "name": "ipython",
    "version": 3
   },
   "file_extension": ".py",
   "mimetype": "text/x-python",
   "name": "python",
   "nbconvert_exporter": "python",
   "pygments_lexer": "ipython3",
   "version": "3.8.16+"
  }
 },
 "nbformat": 4,
 "nbformat_minor": 2
}
