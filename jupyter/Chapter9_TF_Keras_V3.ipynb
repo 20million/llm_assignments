{
 "cells": [
  {
   "cell_type": "markdown",
   "metadata": {},
   "source": [
    "# TensorFlow and Keras"
   ]
  },
  {
   "cell_type": "code",
   "execution_count": 4,
   "metadata": {},
   "outputs": [],
   "source": [
    "#Uncomment and use it\n",
    "#!pip install tensorflow"
   ]
  },
  {
   "cell_type": "code",
   "execution_count": 8,
   "metadata": {},
   "outputs": [
    {
     "name": "stdout",
     "output_type": "stream",
     "text": [
      "Name: tensorflow\r\n",
      "Version: 2.11.1\r\n",
      "Summary: TensorFlow is an open source machine learning framework for everyone.\r\n",
      "Home-page: https://www.tensorflow.org/\r\n",
      "Author: Google Inc.\r\n",
      "Author-email: packages@tensorflow.org\r\n",
      "License: Apache 2.0\r\n",
      "Location: /Users/shankar/.pyenv/versions/3.8-dev/lib/python3.8/site-packages\r\n",
      "Requires: absl-py, astunparse, flatbuffers, gast, google-pasta, grpcio, h5py, keras, libclang, numpy, opt-einsum, packaging, protobuf, setuptools, six, tensorboard, tensorflow-estimator, tensorflow-io-gcs-filesystem, termcolor, typing-extensions, wrapt\r\n",
      "Required-by: \r\n"
     ]
    }
   ],
   "source": [
    "!pip show tensorflow"
   ]
  },
  {
   "cell_type": "code",
   "execution_count": 9,
   "metadata": {},
   "outputs": [],
   "source": [
    "import tensorflow as tf\n",
    "%matplotlib inline  "
   ]
  },
  {
   "cell_type": "markdown",
   "metadata": {},
   "source": [
    "## Tensors"
   ]
  },
  {
   "cell_type": "markdown",
   "metadata": {},
   "source": [
    "#### Constants"
   ]
  },
  {
   "cell_type": "markdown",
   "metadata": {},
   "source": [
    "tf.constant creates constant values, these values do not change\n",
    "or update during optimization process(training phase)"
   ]
  },
  {
   "cell_type": "code",
   "execution_count": 30,
   "metadata": {},
   "outputs": [
    {
     "name": "stdout",
     "output_type": "stream",
     "text": [
      "tf.Tensor([50 10], shape=(2,), dtype=int32)\n",
      "tf.Tensor(\n",
      "[[1 2 3]\n",
      " [3 4 7]], shape=(2, 3), dtype=int32)\n",
      "2.11.1\n",
      "[[1 2 3]\n",
      " [3 4 7]]\n",
      "(2, 3)\n"
     ]
    }
   ],
   "source": [
    "a = tf.constant([50,10])\n",
    "print(a)\n",
    "b = tf.constant([[1,2,3],[3,4,7]])\n",
    "print(b)\n",
    "print(tf.__version__)\n",
    "print(b.numpy())\n",
    "print(b.shape)"
   ]
  },
  {
   "cell_type": "markdown",
   "metadata": {},
   "source": [
    "Few things that we can do with the tensors at the runtime:\n",
    "1. Directly get a numpy value of the tensor\n",
    "2. dtype : data type of the tensor(int16/int32/float32/float64)\n",
    "3. shape: shape of the tensor"
   ]
  },
  {
   "cell_type": "code",
   "execution_count": 19,
   "metadata": {},
   "outputs": [
    {
     "name": "stdout",
     "output_type": "stream",
     "text": [
      "a in tensorflow ==> tf.Tensor([50 10], shape=(2,), dtype=int32)\n",
      "numpy value of a ==> [50 10]\n",
      "dtype of a ==> <dtype: 'int32'>\n",
      "shape of a ==> (2,)\n"
     ]
    }
   ],
   "source": [
    "print('a in tensorflow ==>', a)\n",
    "print('numpy value of a ==>', a.numpy())\n",
    "print('dtype of a ==>', a.dtype)\n",
    "print('shape of a ==>', a.shape)"
   ]
  },
  {
   "cell_type": "markdown",
   "metadata": {},
   "source": [
    "We can use inbuild tf.XX() function to create constant tensors, just like numpy."
   ]
  },
  {
   "cell_type": "code",
   "execution_count": 20,
   "metadata": {},
   "outputs": [
    {
     "name": "stdout",
     "output_type": "stream",
     "text": [
      "Tensor of Ones: \n",
      " tf.Tensor(\n",
      "[[1. 1.]\n",
      " [1. 1.]], shape=(2, 2), dtype=float32)\n",
      "Tensor of Zeros: \n",
      " tf.Tensor(\n",
      "[[0. 0.]\n",
      " [0. 0.]], shape=(2, 2), dtype=float32)\n",
      "Random normal values \n",
      " tf.Tensor(\n",
      "[[5.527405  4.7836804]\n",
      " [3.4078662 3.9296103]\n",
      " [5.608993  4.038655 ]], shape=(3, 2), dtype=float32)\n"
     ]
    }
   ],
   "source": [
    "print('Tensor of Ones: \\n',tf.ones(shape=(2, 2)))\n",
    "print('Tensor of Zeros: \\n',tf.zeros(shape=(2, 2)))\n",
    "print('Random normal values \\n', tf.random.normal(shape=(3, 2),\n",
    "                                                  mean=5, \n",
    "                                                  stddev=1))"
   ]
  },
  {
   "cell_type": "markdown",
   "metadata": {},
   "source": [
    "### Variables"
   ]
  },
  {
   "cell_type": "markdown",
   "metadata": {},
   "source": [
    "We generally create a variable with some values, call it initialized values, \n",
    "convert this constant tensor into a variable and then mutate the variable by using special functions."
   ]
  },
  {
   "cell_type": "code",
   "execution_count": null,
   "metadata": {},
   "outputs": [],
   "source": [
    "x = tf.Variable(5) # Simple variable\n",
    "print(x)"
   ]
  },
  {
   "cell_type": "code",
   "execution_count": 31,
   "metadata": {},
   "outputs": [
    {
     "name": "stdout",
     "output_type": "stream",
     "text": [
      "<tf.Variable 'Variable:0' shape=(2, 2) dtype=float32, numpy=\n",
      "array([[ 0.8404092, -1.2949399],\n",
      "       [ 0.5561162, -0.8268858]], dtype=float32)>\n"
     ]
    }
   ],
   "source": [
    "#randomly initialized variable, like we need for our weights\n",
    "w = tf.Variable(tf.random.normal(shape=(2, 2))) \n",
    "print(w)"
   ]
  },
  {
   "cell_type": "code",
   "execution_count": 32,
   "metadata": {},
   "outputs": [
    {
     "name": "stdout",
     "output_type": "stream",
     "text": [
      "<tf.Variable 'Variable:0' shape=() dtype=int32, numpy=5>\n",
      "New value <tf.Variable 'UnreadVariable' shape=() dtype=int32, numpy=2>\n",
      "increment by 1 <tf.Variable 'UnreadVariable' shape=() dtype=int32, numpy=6>\n",
      "Decrement by 2 <tf.Variable 'UnreadVariable' shape=() dtype=int32, numpy=3>\n"
     ]
    }
   ],
   "source": [
    "m = tf.Variable(5) # Simple variable\n",
    "print(m)\n",
    "\n",
    "m = tf.Variable(5) \n",
    "print('New value', m.assign(2))\n",
    "\n",
    "m = tf.Variable(5) \n",
    "print('increment by 1', m.assign_add(1))\n",
    "\n",
    "m = tf.Variable(5) \n",
    "print('Decrement by 2', m.assign_sub(2))\n"
   ]
  },
  {
   "cell_type": "markdown",
   "metadata": {},
   "source": [
    "### Regression Model building in TensorFlow"
   ]
  },
  {
   "cell_type": "markdown",
   "metadata": {},
   "source": [
    "#This step is for data creation, x and y"
   ]
  },
  {
   "cell_type": "code",
   "execution_count": 47,
   "metadata": {},
   "outputs": [
    {
     "data": {
      "image/png": "[encoded data removed]",
      "text/plain": [
       "<Figure size 640x480 with 1 Axes>"
      ]
     },
     "metadata": {},
     "output_type": "display_data"
    }
   ],
   "source": [
    "#This step is for data creation, x and y\n",
    "import numpy as np\n",
    "x_train= np.array(range(5000,5100)).reshape(-1,1)\n",
    "noise=np.random.normal(500, 10, 100)\n",
    "y_train=[3*x+noise[x-5000] for x in x_train]\n",
    "\n",
    "import matplotlib.pyplot as plt\n",
    "plt.title(\"x_train vs y_train data\")\n",
    "plt.plot(x_train, y_train, 'b.')\n",
    "plt.show()"
   ]
  },
  {
   "cell_type": "code",
   "execution_count": 53,
   "metadata": {},
   "outputs": [
    {
     "name": "stdout",
     "output_type": "stream",
     "text": [
      "epoch : 0, loss  128892496.0,  W : [[0.9653369]], b  [1.0000226]\n",
      "epoch : 1, loss  116081568.0,  W : [[1.0741464]], b  [1.0000442]\n",
      "epoch : 2, loss  104543952.0,  W : [[1.177407]], b  [1.0000647]\n",
      "epoch : 3, loss  94153072.0,  W : [[1.2754017]], b  [1.0000842]\n",
      "epoch : 4, loss  84794976.0,  W : [[1.368399]], b  [1.0001025]\n",
      "epoch : 5, loss  76367008.0,  W : [[1.4566537]], b  [1.00012]\n",
      "epoch : 6, loss  68776712.0,  W : [[1.5404078]], b  [1.0001366]\n",
      "epoch : 7, loss  61940828.0,  W : [[1.6198907]], b  [1.0001523]\n",
      "epoch : 8, loss  55784392.0,  W : [[1.6953202]], b  [1.0001673]\n",
      "epoch : 9, loss  50239852.0,  W : [[1.7669032]], b  [1.0001814]\n",
      "epoch : 10, loss  45246404.0,  W : [[1.8348355]], b  [1.0001949]\n",
      "epoch : 11, loss  40749256.0,  W : [[1.8993036]], b  [1.0002077]\n",
      "epoch : 12, loss  36699100.0,  W : [[1.960484]], b  [1.0002198]\n",
      "epoch : 13, loss  33051494.0,  W : [[2.0185444]], b  [1.0002313]\n",
      "epoch : 14, loss  29766438.0,  W : [[2.073644]], b  [1.0002422]\n",
      "epoch : 15, loss  26807896.0,  W : [[2.1259336]], b  [1.0002526]\n",
      "epoch : 16, loss  24143400.0,  W : [[2.1755567]], b  [1.0002624]\n",
      "epoch : 17, loss  21743742.0,  W : [[2.222649]], b  [1.0002717]\n",
      "epoch : 18, loss  19582590.0,  W : [[2.26734]], b  [1.0002805]\n",
      "epoch : 19, loss  17636242.0,  W : [[2.3097517]], b  [1.0002888]\n",
      "epoch : 20, loss  15883343.0,  W : [[2.3500006]], b  [1.0002968]\n",
      "epoch : 21, loss  14304676.0,  W : [[2.388197]], b  [1.0003043]\n",
      "epoch : 22, loss  12882915.0,  W : [[2.4244454]], b  [1.0003115]\n",
      "epoch : 23, loss  11602465.0,  W : [[2.4588454]], b  [1.0003183]\n",
      "epoch : 24, loss  10449279.0,  W : [[2.491491]], b  [1.0003247]\n",
      "epoch : 25, loss  9410712.0,  W : [[2.522472]], b  [1.0003308]\n",
      "epoch : 26, loss  8475372.0,  W : [[2.551873]], b  [1.0003366]\n",
      "epoch : 27, loss  7632992.0,  W : [[2.5797746]], b  [1.0003421]\n",
      "epoch : 28, loss  6874342.5,  W : [[2.6062534]], b  [1.0003474]\n",
      "epoch : 29, loss  6191095.0,  W : [[2.6313818]], b  [1.0003524]\n",
      "epoch : 30, loss  5575759.5,  W : [[2.6552286]], b  [1.0003572]\n",
      "epoch : 31, loss  5021585.0,  W : [[2.6778595]], b  [1.0003617]\n",
      "epoch : 32, loss  4522487.0,  W : [[2.6993363]], b  [1.000366]\n",
      "epoch : 33, loss  4072997.75,  W : [[2.7197177]], b  [1.00037]\n",
      "epoch : 34, loss  3668185.25,  W : [[2.73906]], b  [1.0003738]\n",
      "epoch : 35, loss  3303606.0,  W : [[2.7574158]], b  [1.0003774]\n",
      "epoch : 36, loss  2975262.5,  W : [[2.7748353]], b  [1.0003809]\n",
      "epoch : 37, loss  2679557.0,  W : [[2.7913666]], b  [1.0003841]\n",
      "epoch : 38, loss  2413242.25,  W : [[2.8070548]], b  [1.0003872]\n",
      "epoch : 39, loss  2173397.5,  W : [[2.821943]], b  [1.0003902]\n",
      "epoch : 40, loss  1957389.125,  W : [[2.836072]], b  [1.0003929]\n",
      "epoch : 41, loss  1762852.125,  W : [[2.8494804]], b  [1.0003955]\n",
      "epoch : 42, loss  1587650.125,  W : [[2.862205]], b  [1.000398]\n",
      "epoch : 43, loss  1429861.875,  W : [[2.8742807]], b  [1.0004004]\n",
      "epoch : 44, loss  1287757.5,  W : [[2.8857405]], b  [1.0004027]\n",
      "epoch : 45, loss  1159778.0,  W : [[2.896616]], b  [1.0004048]\n",
      "epoch : 46, loss  1044516.75,  W : [[2.906937]], b  [1.0004069]\n",
      "epoch : 47, loss  940711.625,  W : [[2.9167314]], b  [1.0004088]\n",
      "epoch : 48, loss  847224.9375,  W : [[2.9260263]], b  [1.0004106]\n",
      "epoch : 49, loss  763030.25,  W : [[2.9348474]], b  [1.0004123]\n",
      "epoch : 50, loss  687203.25,  W : [[2.9432187]], b  [1.000414]\n",
      "epoch : 51, loss  618911.5,  W : [[2.951163]], b  [1.0004156]\n",
      "epoch : 52, loss  557408.25,  W : [[2.9587023]], b  [1.0004171]\n",
      "epoch : 53, loss  502017.53125,  W : [[2.965857]], b  [1.0004185]\n",
      "epoch : 54, loss  452132.875,  W : [[2.972647]], b  [1.0004199]\n",
      "epoch : 55, loss  407205.8125,  W : [[2.9790905]], b  [1.0004212]\n",
      "epoch : 56, loss  366745.1875,  W : [[2.9852054]], b  [1.0004224]\n",
      "epoch : 57, loss  330305.625,  W : [[2.9910085]], b  [1.0004236]\n",
      "epoch : 58, loss  297488.0,  W : [[2.9965158]], b  [1.0004246]\n",
      "epoch : 59, loss  267931.84375,  W : [[3.0017421]], b  [1.0004257]\n",
      "epoch : 60, loss  241313.359375,  W : [[3.006702]], b  [1.0004267]\n",
      "epoch : 61, loss  217340.703125,  W : [[3.0114088]], b  [1.0004276]\n",
      "epoch : 62, loss  195750.859375,  W : [[3.0158756]], b  [1.0004284]\n",
      "epoch : 63, loss  176307.078125,  W : [[3.0201147]], b  [1.0004293]\n",
      "epoch : 64, loss  158795.46875,  W : [[3.0241375]], b  [1.0004301]\n",
      "epoch : 65, loss  143024.640625,  W : [[3.0279553]], b  [1.0004308]\n",
      "epoch : 66, loss  128820.8828125,  W : [[3.0315783]], b  [1.0004315]\n",
      "epoch : 67, loss  116029.2109375,  W : [[3.0350165]], b  [1.0004323]\n",
      "epoch : 68, loss  104508.90625,  W : [[3.0382795]], b  [1.0004328]\n",
      "epoch : 69, loss  94133.40625,  W : [[3.041376]], b  [1.0004334]\n",
      "epoch : 70, loss  84789.15625,  W : [[3.0443149]], b  [1.000434]\n",
      "epoch : 71, loss  76373.453125,  W : [[3.0471036]], b  [1.0004346]\n",
      "epoch : 72, loss  68794.4609375,  W : [[3.04975]], b  [1.0004351]\n",
      "epoch : 73, loss  61969.078125,  W : [[3.0522616]], b  [1.0004356]\n",
      "epoch : 74, loss  55822.03125,  W : [[3.054645]], b  [1.0004361]\n",
      "epoch : 75, loss  50285.828125,  W : [[3.056907]], b  [1.0004365]\n",
      "epoch : 76, loss  45299.96484375,  W : [[3.0590537]], b  [1.000437]\n",
      "epoch : 77, loss  40809.2734375,  W : [[3.0610907]], b  [1.0004374]\n",
      "epoch : 78, loss  36765.30859375,  W : [[3.063024]], b  [1.0004377]\n",
      "epoch : 79, loss  33122.96875,  W : [[3.0648587]], b  [1.0004381]\n",
      "epoch : 80, loss  29842.845703125,  W : [[3.0665998]], b  [1.0004385]\n",
      "epoch : 81, loss  26888.5703125,  W : [[3.068252]], b  [1.0004388]\n",
      "epoch : 82, loss  24228.154296875,  W : [[3.0698202]], b  [1.0004392]\n",
      "epoch : 83, loss  21832.001953125,  W : [[3.0713084]], b  [1.0004394]\n",
      "epoch : 84, loss  19673.884765625,  W : [[3.0727205]], b  [1.0004396]\n",
      "epoch : 85, loss  17730.4921875,  W : [[3.0740607]], b  [1.0004399]\n",
      "epoch : 86, loss  15980.2314453125,  W : [[3.0753324]], b  [1.0004401]\n",
      "epoch : 87, loss  14404.0361328125,  W : [[3.0765393]], b  [1.0004404]\n",
      "epoch : 88, loss  12984.494140625,  W : [[3.0776846]], b  [1.0004406]\n",
      "epoch : 89, loss  11705.9970703125,  W : [[3.0787716]], b  [1.0004408]\n",
      "epoch : 90, loss  10554.5712890625,  W : [[3.0798032]], b  [1.0004411]\n",
      "epoch : 91, loss  9517.46875,  W : [[3.0807822]], b  [1.0004413]\n",
      "epoch : 92, loss  8583.5224609375,  W : [[3.0817113]], b  [1.0004416]\n",
      "epoch : 93, loss  7742.3173828125,  W : [[3.082593]], b  [1.0004417]\n",
      "epoch : 94, loss  6984.78369140625,  W : [[3.0834296]], b  [1.0004418]\n",
      "epoch : 95, loss  6302.6201171875,  W : [[3.0842237]], b  [1.0004419]\n",
      "epoch : 96, loss  5688.078125,  W : [[3.0849774]], b  [1.000442]\n",
      "epoch : 97, loss  5134.64697265625,  W : [[3.0856924]], b  [1.0004421]\n",
      "epoch : 98, loss  4636.3466796875,  W : [[3.0863712]], b  [1.0004423]\n",
      "epoch : 99, loss  4187.44140625,  W : [[3.0870152]], b  [1.0004424]\n",
      "epoch : 100, loss  3783.264404296875,  W : [[3.0876265]], b  [1.0004425]\n",
      "epoch : 101, loss  3419.159912109375,  W : [[3.0882065]], b  [1.0004426]\n",
      "epoch : 102, loss  3091.279052734375,  W : [[3.088757]], b  [1.0004427]\n",
      "epoch : 103, loss  2795.978759765625,  W : [[3.0892794]], b  [1.0004429]\n",
      "epoch : 104, loss  2530.057861328125,  W : [[3.089775]], b  [1.000443]\n",
      "epoch : 105, loss  2290.599365234375,  W : [[3.0902455]], b  [1.0004431]\n",
      "epoch : 106, loss  2074.93359375,  W : [[3.090692]], b  [1.0004432]\n",
      "epoch : 107, loss  1880.6446533203125,  W : [[3.0911157]], b  [1.0004433]\n",
      "epoch : 108, loss  1705.7125244140625,  W : [[3.091518]], b  [1.0004435]\n",
      "epoch : 109, loss  1548.1156005859375,  W : [[3.0918994]], b  [1.0004436]\n",
      "epoch : 110, loss  1406.2593994140625,  W : [[3.0922616]], b  [1.0004437]\n",
      "epoch : 111, loss  1278.4552001953125,  W : [[3.092605]], b  [1.0004438]\n",
      "epoch : 112, loss  1163.397705078125,  W : [[3.0929313]], b  [1.0004439]\n",
      "epoch : 113, loss  1059.735595703125,  W : [[3.0932407]], b  [1.000444]\n",
      "epoch : 114, loss  966.3959350585938,  W : [[3.0935345]], b  [1.000444]\n",
      "epoch : 115, loss  882.3200073242188,  W : [[3.0938132]], b  [1.000444]\n",
      "epoch : 116, loss  806.610595703125,  W : [[3.0940778]], b  [1.000444]\n",
      "epoch : 117, loss  738.3883056640625,  W : [[3.0943289]], b  [1.000444]\n",
      "epoch : 118, loss  676.97265625,  W : [[3.094567]], b  [1.000444]\n",
      "epoch : 119, loss  621.67626953125,  W : [[3.094793]], b  [1.000444]\n",
      "epoch : 120, loss  571.8782348632812,  W : [[3.0950077]], b  [1.000444]\n",
      "epoch : 121, loss  527.01318359375,  W : [[3.0952113]], b  [1.000444]\n",
      "epoch : 122, loss  486.61065673828125,  W : [[3.0954044]], b  [1.000444]\n",
      "epoch : 123, loss  450.244873046875,  W : [[3.0955877]], b  [1.000444]\n",
      "epoch : 124, loss  417.4803771972656,  W : [[3.0957618]], b  [1.000444]\n",
      "epoch : 125, loss  387.96112060546875,  W : [[3.095927]], b  [1.000444]\n",
      "epoch : 126, loss  361.3687438964844,  W : [[3.0960836]], b  [1.000444]\n",
      "epoch : 127, loss  337.4438781738281,  W : [[3.0962324]], b  [1.000444]\n",
      "epoch : 128, loss  315.8786315917969,  W : [[3.0963736]], b  [1.000444]\n",
      "epoch : 129, loss  296.4631042480469,  W : [[3.0965075]], b  [1.000444]\n",
      "epoch : 130, loss  278.9712219238281,  W : [[3.0966346]], b  [1.000444]\n",
      "epoch : 131, loss  263.2278747558594,  W : [[3.0967553]], b  [1.000444]\n",
      "epoch : 132, loss  249.04327392578125,  W : [[3.0968697]], b  [1.000444]\n",
      "epoch : 133, loss  236.27525329589844,  W : [[3.0969784]], b  [1.000444]\n",
      "epoch : 134, loss  224.76312255859375,  W : [[3.0970814]], b  [1.000444]\n",
      "epoch : 135, loss  214.4112091064453,  W : [[3.0971792]], b  [1.000444]\n",
      "epoch : 136, loss  205.08934020996094,  W : [[3.0972722]], b  [1.000444]\n",
      "epoch : 137, loss  196.6737823486328,  W : [[3.0973604]], b  [1.000444]\n",
      "epoch : 138, loss  189.09765625,  W : [[3.097444]], b  [1.000444]\n",
      "epoch : 139, loss  182.2764129638672,  W : [[3.0975235]], b  [1.000444]\n",
      "epoch : 140, loss  176.1358184814453,  W : [[3.0975988]], b  [1.000444]\n",
      "epoch : 141, loss  170.6063232421875,  W : [[3.0976703]], b  [1.000444]\n",
      "epoch : 142, loss  165.62472534179688,  W : [[3.0977383]], b  [1.000444]\n",
      "epoch : 143, loss  161.13377380371094,  W : [[3.0978026]], b  [1.000444]\n",
      "epoch : 144, loss  157.09414672851562,  W : [[3.0978637]], b  [1.000444]\n",
      "epoch : 145, loss  153.46221923828125,  W : [[3.0979216]], b  [1.000444]\n",
      "epoch : 146, loss  150.18887329101562,  W : [[3.0979767]], b  [1.000444]\n",
      "epoch : 147, loss  147.23590087890625,  W : [[3.098029]], b  [1.000444]\n",
      "epoch : 148, loss  144.57894897460938,  W : [[3.0980785]], b  [1.000444]\n",
      "epoch : 149, loss  142.185302734375,  W : [[3.0981255]], b  [1.000444]\n",
      "epoch : 150, loss  140.03245544433594,  W : [[3.09817]], b  [1.000444]\n",
      "epoch : 151, loss  138.09527587890625,  W : [[3.0982125]], b  [1.000444]\n",
      "epoch : 152, loss  136.343017578125,  W : [[3.0982528]], b  [1.000444]\n",
      "epoch : 153, loss  134.76573181152344,  W : [[3.098291]], b  [1.000444]\n",
      "epoch : 154, loss  133.34800720214844,  W : [[3.0983272]], b  [1.000444]\n",
      "epoch : 155, loss  132.07122802734375,  W : [[3.0983615]], b  [1.000444]\n",
      "epoch : 156, loss  130.92221069335938,  W : [[3.0983942]], b  [1.000444]\n",
      "epoch : 157, loss  129.88478088378906,  W : [[3.0984251]], b  [1.000444]\n",
      "epoch : 158, loss  128.95152282714844,  W : [[3.0984545]], b  [1.000444]\n",
      "epoch : 159, loss  128.1127471923828,  W : [[3.0984824]], b  [1.000444]\n",
      "epoch : 160, loss  127.35533142089844,  W : [[3.0985088]], b  [1.000444]\n",
      "epoch : 161, loss  126.67378234863281,  W : [[3.0985339]], b  [1.000444]\n",
      "epoch : 162, loss  126.06236267089844,  W : [[3.0985577]], b  [1.000444]\n",
      "epoch : 163, loss  125.51022338867188,  W : [[3.0985804]], b  [1.000444]\n",
      "epoch : 164, loss  125.01140594482422,  W : [[3.0986018]], b  [1.000444]\n",
      "epoch : 165, loss  124.56441497802734,  W : [[3.098622]], b  [1.000444]\n",
      "epoch : 166, loss  124.16155242919922,  W : [[3.0986414]], b  [1.000444]\n"
     ]
    },
    {
     "name": "stdout",
     "output_type": "stream",
     "text": [
      "epoch : 167, loss  123.80029296875,  W : [[3.0986598]], b  [1.000444]\n",
      "epoch : 168, loss  123.4708480834961,  W : [[3.0986772]], b  [1.000444]\n",
      "epoch : 169, loss  123.1771469116211,  W : [[3.0986936]], b  [1.000444]\n",
      "epoch : 170, loss  122.91143798828125,  W : [[3.0987093]], b  [1.000444]\n",
      "epoch : 171, loss  122.67230224609375,  W : [[3.0987241]], b  [1.000444]\n",
      "epoch : 172, loss  122.4588394165039,  W : [[3.0987382]], b  [1.000444]\n",
      "epoch : 173, loss  122.26547241210938,  W : [[3.0987515]], b  [1.000444]\n",
      "epoch : 174, loss  122.0922622680664,  W : [[3.0987642]], b  [1.000444]\n",
      "epoch : 175, loss  121.93470764160156,  W : [[3.0987763]], b  [1.000444]\n",
      "epoch : 176, loss  121.79179382324219,  W : [[3.0987878]], b  [1.000444]\n",
      "epoch : 177, loss  121.66484069824219,  W : [[3.0987985]], b  [1.000444]\n",
      "epoch : 178, loss  121.55154418945312,  W : [[3.0988088]], b  [1.000444]\n",
      "epoch : 179, loss  121.44792175292969,  W : [[3.0988185]], b  [1.000444]\n",
      "epoch : 180, loss  121.35638427734375,  W : [[3.0988278]], b  [1.000444]\n",
      "epoch : 181, loss  121.27061462402344,  W : [[3.0988367]], b  [1.000444]\n",
      "epoch : 182, loss  121.19587707519531,  W : [[3.098845]], b  [1.000444]\n",
      "epoch : 183, loss  121.12852478027344,  W : [[3.0988529]], b  [1.000444]\n",
      "epoch : 184, loss  121.06761932373047,  W : [[3.0988605]], b  [1.000444]\n",
      "epoch : 185, loss  121.01102447509766,  W : [[3.0988677]], b  [1.000444]\n",
      "epoch : 186, loss  120.96128845214844,  W : [[3.0988743]], b  [1.000444]\n",
      "epoch : 187, loss  120.91671752929688,  W : [[3.0988808]], b  [1.000444]\n",
      "epoch : 188, loss  120.8761978149414,  W : [[3.098887]], b  [1.000444]\n",
      "epoch : 189, loss  120.83924865722656,  W : [[3.0988927]], b  [1.000444]\n",
      "epoch : 190, loss  120.8086166381836,  W : [[3.0988982]], b  [1.000444]\n",
      "epoch : 191, loss  120.7787857055664,  W : [[3.0989034]], b  [1.000444]\n",
      "epoch : 192, loss  120.75152587890625,  W : [[3.0989084]], b  [1.000444]\n",
      "epoch : 193, loss  120.72736358642578,  W : [[3.0989132]], b  [1.000444]\n",
      "epoch : 194, loss  120.70602416992188,  W : [[3.0989177]], b  [1.000444]\n",
      "epoch : 195, loss  120.68576049804688,  W : [[3.098922]], b  [1.000444]\n",
      "epoch : 196, loss  120.6689453125,  W : [[3.098926]], b  [1.000444]\n",
      "epoch : 197, loss  120.65251159667969,  W : [[3.09893]], b  [1.000444]\n",
      "epoch : 198, loss  120.63806915283203,  W : [[3.0989335]], b  [1.000444]\n",
      "epoch : 199, loss  120.62706756591797,  W : [[3.0989368]], b  [1.000444]\n"
     ]
    }
   ],
   "source": [
    "#Model y=X*W + b\n",
    "#Model function\n",
    "def output(x):\n",
    "    return W*x + b\n",
    "\n",
    "#Loss function Reduce mean square\n",
    "def loss_function(y_pred, y_true):\n",
    "    return tf.reduce_mean(tf.square(y_pred - y_true))\n",
    "\n",
    "#Initialize Weights\n",
    "W = tf.Variable(tf.random.uniform(shape=(1, 1)))\n",
    "b = tf.Variable(tf.ones(shape=(1,)))\n",
    "\n",
    "#Optimization\n",
    "## Writing training/learing loop with GradienTape\n",
    "learning_rate = 0.000000001\n",
    "steps = 200 #epochs\n",
    "\n",
    "for i in range(steps):\n",
    "    with tf.GradientTape() as tape:\n",
    "        predictions = output(x_train)\n",
    "        loss = loss_function(predictions,y_train)\n",
    "        dloss_dw, dloss_db = tape.gradient(loss, [W, b])\n",
    "    W.assign_sub(learning_rate * dloss_dw)\n",
    "    b.assign_sub(learning_rate * dloss_db)\n",
    "    print(f\"epoch : {i}, loss  {loss.numpy()},  W : {W.numpy()}, b  {b.numpy()}\")"
   ]
  },
  {
   "cell_type": "markdown",
   "metadata": {},
   "source": [
    "Final Weights"
   ]
  },
  {
   "cell_type": "code",
   "execution_count": null,
   "metadata": {},
   "outputs": [],
   "source": [
    "print('w ', W)\n",
    "print('b ', b)"
   ]
  },
  {
   "cell_type": "markdown",
   "metadata": {},
   "source": [
    "Plotting"
   ]
  },
  {
   "cell_type": "code",
   "execution_count": null,
   "metadata": {},
   "outputs": [],
   "source": [
    "#Initialize Weights\n",
    "W = tf.Variable(tf.random.uniform(shape=(1, 1)))\n",
    "b = tf.Variable(tf.ones(shape=(1,)))\n",
    "\n",
    "#Optimization\n",
    "## Writing training/learing loop with GradienTape\n",
    "learning_rate = 0.000000001\n",
    "steps = 200 #epochs\n",
    "\n",
    "for i in range(steps):\n",
    "    with tf.GradientTape() as tape:\n",
    "        predictions = output(x_train)\n",
    "        loss = loss_function(predictions,y_train)\n",
    "        dloss_dw, dloss_db = tape.gradient(loss, [W, b])\n",
    "    W.assign_sub(learning_rate * dloss_dw)\n",
    "    b.assign_sub(learning_rate * dloss_db)\n",
    "    if i%30 == 0:\n",
    "        print(f\"epoch is: {i}, loss is {loss.numpy()},  W is: {W.numpy()}, b is {b.numpy()}\")\n",
    "        plt.title([\"epoch\", i])\n",
    "        plt.plot(x_train, y_train, 'b.')\n",
    "        plt.plot(x_train, output(x_train), c='r')\n",
    "        plt.show()"
   ]
  },
  {
   "cell_type": "markdown",
   "metadata": {},
   "source": [
    "### Logistic Regression Model building in TensorFlow"
   ]
  },
  {
   "cell_type": "code",
   "execution_count": null,
   "metadata": {},
   "outputs": [],
   "source": [
    "# This step is for data creation\n",
    "x_train= np.random.rand(100,1)\n",
    "y_train=np.array([0 if i < 0.5 else 1 for i in x_train]).reshape(-1,1)\n",
    "\n",
    "import matplotlib.pyplot as plt\n",
    "plt.title(\"x_train vs y_train data\")\n",
    "plt.plot(x_train, y_train, 'b.',)\n",
    "plt.show()"
   ]
  },
  {
   "cell_type": "code",
   "execution_count": null,
   "metadata": {},
   "outputs": [],
   "source": [
    "#Model y=sigmoid(X*W + b)\n",
    "# same as the linear regression just sigmoid wrapped around the linear equation\n",
    "def output(x): \n",
    "    return tf.sigmoid(W*x + b)\n",
    "\n",
    "#Loss function : sum of squares\n",
    "def loss_function(y_pred, y_true):\n",
    "    return tf.reduce_sum(tf.square(y_pred - y_true))\n",
    "\n",
    "#Initialize Weights\n",
    "W = tf.Variable(tf.random.uniform(shape=(1, 1)))\n",
    "b = tf.Variable(tf.zeros(shape=(1,)))\n",
    "\n",
    "## Optimization\n",
    "learning_rate = 0.1\n",
    "steps = 300 #epochs\n",
    "\n",
    "for i in range(steps):\n",
    "    with tf.GradientTape() as tape:\n",
    "        predictions = output(x_train)\n",
    "        loss = loss_function(y_train, predictions)\n",
    "        dloss_dw, dloss_db = tape.gradient(loss, [W, b])\n",
    "    W.assign_sub(learning_rate * dloss_dw)\n",
    "    b.assign_sub(learning_rate * dloss_db)\n",
    "    print(f\"epoch : {i}, loss  {loss.numpy()},  W : {W.numpy()}, b  {b.numpy()}\")"
   ]
  },
  {
   "cell_type": "markdown",
   "metadata": {},
   "source": [
    "Plotting"
   ]
  },
  {
   "cell_type": "code",
   "execution_count": null,
   "metadata": {},
   "outputs": [],
   "source": [
    "#Model y=X*W + b\n",
    "# same as the linear regression just sigmoid wrapped around the linear equation\n",
    "def output(x): \n",
    "    return tf.sigmoid(W*x + b)\n",
    "\n",
    "#Loss function : sum of squares\n",
    "def loss_function(y_pred, y_true):\n",
    "    return tf.reduce_sum(tf.square(y_pred - y_true))\n",
    "\n",
    "#Initialize Weights\n",
    "W = tf.Variable(tf.random.uniform(shape=(1, 1)))\n",
    "b = tf.Variable(tf.zeros(shape=(1,)))\n",
    "\n",
    "## Optimization\n",
    "learning_rate = 0.1\n",
    "steps = 300 #epochs\n",
    "\n",
    "for i in range(steps):\n",
    "    with tf.GradientTape() as tape:\n",
    "        predictions = output(x_train)\n",
    "        loss = loss_function(y_train, predictions)\n",
    "        dloss_dw, dloss_db = tape.gradient(loss, [W, b])\n",
    "    W.assign_sub(learning_rate * dloss_dw)\n",
    "    b.assign_sub(learning_rate * dloss_db)\n",
    "\n",
    "    if i%40 == 0:\n",
    "        print(f\"epoch is: {i}, loss is {loss.numpy()},  W is: {W.numpy()}, b is {b.numpy()}\")\n",
    "        plt.title([\"epoch\", i])\n",
    "        plt.plot(x_train, y_train, 'b+')\n",
    "        plt.plot(x_train, output(x_train), '.', c='r')\n",
    "        plt.show()"
   ]
  },
  {
   "cell_type": "markdown",
   "metadata": {},
   "source": [
    "# Keras"
   ]
  },
  {
   "cell_type": "code",
   "execution_count": null,
   "metadata": {},
   "outputs": [],
   "source": [
    "from tensorflow import keras\n",
    "from tensorflow.keras import layers\n",
    "from tensorflow.keras.models import Sequential\n",
    "from tensorflow.keras.layers import Dense"
   ]
  },
  {
   "cell_type": "code",
   "execution_count": null,
   "metadata": {},
   "outputs": [],
   "source": [
    "## The data, shuffled and split between train and test sets\n",
    "(X_train, Y_train), (X_test, Y_test) = keras.datasets.mnist.load_data()\n",
    "num_classes=10\n",
    "x_train = X_train.reshape(60000, 784)\n",
    "x_test = X_test.reshape(10000, 784)\n",
    "x_train = x_train.astype('float32')\n",
    "x_test = x_test.astype('float32')\n",
    "x_train /= 255\n",
    "x_test /= 255\n",
    "\n",
    "## Convert class vectors to binary class matrices\n",
    "y_train = keras.utils.to_categorical(Y_train, num_classes)\n",
    "y_test = keras.utils.to_categorical(Y_test, num_classes)\n",
    "\n",
    "print(x_train.shape, 'train input samples')\n",
    "print(x_test.shape, 'test input samples')\n",
    "\n",
    "print(y_train.shape, 'train output samples')\n",
    "print(y_test.shape, 'test output samples')"
   ]
  },
  {
   "cell_type": "code",
   "execution_count": null,
   "metadata": {},
   "outputs": [],
   "source": [
    "# Plot 4 images as gray scale\n",
    "\n",
    "%matplotlib inline\n",
    "import matplotlib.pyplot as plt\n",
    "plt.subplot(221)\n",
    "plt.imshow(X_train[1], cmap=plt.get_cmap('gray'))\n",
    "plt.subplot(222)\n",
    "plt.imshow(X_train[6], cmap=plt.get_cmap('gray'))\n",
    "plt.subplot(223)\n",
    "plt.imshow(X_train[7], cmap=plt.get_cmap('gray'))\n",
    "plt.subplot(224)\n",
    "plt.imshow(X_train[9], cmap=plt.get_cmap('gray'))\n",
    "\n",
    "# show the plot\n",
    "plt.show()"
   ]
  },
  {
   "cell_type": "code",
   "execution_count": null,
   "metadata": {},
   "outputs": [],
   "source": [
    "model = keras.Sequential()\n",
    "#Input Layer. The model needs to know what input shape it should expect. \n",
    "#For this reason, the first layer in a Sequential model needs to receive information about its input shape.\n",
    "#Only the first need the snape information, because following layers can do automatic shape inference\n",
    "model.add(layers.Dense(20, activation='sigmoid', input_shape=(784,)))\n",
    "\n",
    "#The dense layer is simply a layer where each unit or neuron is connected to each neuron in the next layer.\n",
    "model.add(layers.Dense(20, activation='sigmoid'))\n",
    "\n",
    "#In the final layer mention the output classes\n",
    "model.add(layers.Dense(10, activation='softmax'))\n",
    "\n",
    "#Model Summary\n",
    "model.summary()"
   ]
  },
  {
   "cell_type": "code",
   "execution_count": null,
   "metadata": {},
   "outputs": [],
   "source": [
    "# Compiling model : we define loss function, optimizer and validation matric of our choice\n",
    "model.compile(loss='categorical_crossentropy', metrics=['accuracy'])\n",
    "\n",
    "# Fit method: actually running our model by supplying our input and validation data\n",
    "model.fit(x_train, y_train,epochs=10)"
   ]
  },
  {
   "cell_type": "code",
   "execution_count": null,
   "metadata": {},
   "outputs": [],
   "source": [
    "print(model.get_weights())"
   ]
  },
  {
   "cell_type": "code",
   "execution_count": null,
   "metadata": {},
   "outputs": [],
   "source": [
    "loss, acc = model.evaluate(x_test,  y_test, verbose=2)\n",
    "print(\"Test Accuracy: {:5.2f}%\".format(100*acc))"
   ]
  },
  {
   "cell_type": "code",
   "execution_count": null,
   "metadata": {},
   "outputs": [],
   "source": []
  }
 ],
 "metadata": {
  "kernelspec": {
   "display_name": "Python 3 (ipykernel)",
   "language": "python",
   "name": "python3"
  },
  "language_info": {
   "codemirror_mode": {
    "name": "ipython",
    "version": 3
   },
   "file_extension": ".py",
   "mimetype": "text/x-python",
   "name": "python",
   "nbconvert_exporter": "python",
   "pygments_lexer": "ipython3",
   "version": "3.8.16+"
  }
 },
 "nbformat": 4,
 "nbformat_minor": 2
}
